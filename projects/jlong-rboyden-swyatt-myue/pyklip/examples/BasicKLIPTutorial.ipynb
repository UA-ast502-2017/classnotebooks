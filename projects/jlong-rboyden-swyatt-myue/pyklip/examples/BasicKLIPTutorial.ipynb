{
 "cells": [
  {
   "cell_type": "markdown",
   "metadata": {},
   "source": [
    "# Basic KLIP Tutorial (using GPI data)\n",
    "\n",
    "In this notebook, we will do a basic KLIP tutorial using Gemini Planet Imager (GPI) Public Data on β Pic. This tutorial is meant to give you a tutorial on using pyKLIP to perform PSF subtraction with the KLIP algoirthm. It is also meant to give you a brief tutorial on how to use pyKLIP on GPI data, but the steps to perform PSF subtraction should be applicable to using pyKLIP on data from other instruments too. \n",
    "\n",
    "This example notebook follows the [Basic KLIP Tutorial](http://localhost:63342/pyklip/docs/build/html/klip_gpi.html) from the pyKLIP docs."
   ]
  },
  {
   "cell_type": "code",
   "execution_count": 1,
   "metadata": {},
   "outputs": [
    {
     "name": "stderr",
     "output_type": "stream",
     "text": [
      "/home/rboyden/anaconda2/lib/python2.7/site-packages/IPython/html.py:14: ShimWarning: The `IPython.html` package has been deprecated since IPython 4.0. You should import from `notebook` instead. `IPython.html.widgets` has moved to `ipywidgets`.\n",
      "  \"`IPython.html.widgets` has moved to `ipywidgets`.\", ShimWarning)\n"
     ]
    }
   ],
   "source": [
    "# imports\n",
    "import glob\n",
    "import matplotlib.pylab as plt\n",
    "%matplotlib inline\n",
    "import IPython.html.widgets as widgets\n",
    "\n",
    "import numpy as np\n",
    "import astropy.io.fits as fits\n",
    "import pyklip.parallelized as parallelized\n",
    "import pyklip.instruments.GPI as GPI"
   ]
  },
  {
   "cell_type": "markdown",
   "metadata": {},
   "source": [
    "## Reading in GPI Data"
   ]
  },
  {
   "cell_type": "markdown",
   "metadata": {},
   "source": [
    "### Acquiring GPI Data\n",
    "\n",
    "First new need to get our hands on some GPI data. In this notebook, we will use the GPI datacubes used in the testing scripts. They are 3 spectral datacubes from the public release data on β Pic. You can replace this with your own data if you'd like."
   ]
  },
  {
   "cell_type": "code",
   "execution_count": 2,
   "metadata": {},
   "outputs": [
    {
     "name": "stdout",
     "output_type": "stream",
     "text": [
      "['../tests/data/S20131210S0092_spdc_distorcorr.fits', '../tests/data/S20131210S0099_spdc_distorcorr.fits', '../tests/data/S20131210S0111_spdc_distorcorr.fits']\n"
     ]
    }
   ],
   "source": [
    "filelist = glob.glob(\"../tests/data/S20131210*distorcorr.fits\")\n",
    "filelist.sort()\n",
    "\n",
    "print(filelist)"
   ]
  },
  {
   "cell_type": "markdown",
   "metadata": {},
   "source": [
    "### Reading in the Data\n",
    "\n",
    "pyKLIP has interfaces for each instrument that standardizes the data so that they can all be run through the same pyKLIP code. Here, we pass the data into the `pyklip.instruments.GPI.GPIData()` which produces a standardized `dataset` to be processed with pyKLIP. \n",
    "\n",
    "NOTE: when reading in the GPI data, we sometimes high-pass filter the data here before KLIP (useful in particular for planets) to remove the broad seeing halo. It's not as useful for disks which themselves are extended, and thus would get removed too when high-pass filtering."
   ]
  },
  {
   "cell_type": "code",
   "execution_count": 3,
   "metadata": {},
   "outputs": [
    {
     "name": "stdout",
     "output_type": "stream",
     "text": [
      "Reading File: ../tests/data/S20131210S0092_spdc_distorcorr.fits\n",
      "Reading File: ../tests/data/S20131210S0099_spdc_distorcorr.fits\n",
      "Reading File: ../tests/data/S20131210S0111_spdc_distorcorr.fits\n"
     ]
    }
   ],
   "source": [
    "dataset = GPI.GPIData(filelist, highpass=True)"
   ]
  },
  {
   "cell_type": "markdown",
   "metadata": {},
   "source": [
    "### What's in the `dataset` object\n",
    "\n",
    "You can play around with the fields of the dataset object. They are specified in the [GPIData docstring](http://localhost:63342/pyklip/docs/build/html/pyklip.instruments.html#pyklip.instruments.GPI.GPIData). "
   ]
  },
  {
   "cell_type": "code",
   "execution_count": 4,
   "metadata": {},
   "outputs": [
    {
     "name": "stdout",
     "output_type": "stream",
     "text": [
      "The input datacubes are stored in a 3-D array with a shape of (111, 281, 281). The temporal and spatial dimentions have been collapsed\n"
     ]
    },
    {
     "data": {
      "text/plain": [
       "<matplotlib.text.Text at 0x7fe5dadf7110>"
      ]
     },
     "execution_count": 4,
     "metadata": {},
     "output_type": "execute_result"
    },
    {
     "data": {
      "image/png": "[encoded data removed]",
      "text/plain": [
       "<matplotlib.figure.Figure at 0x7fe5dae25110>"
      ]
     },
     "metadata": {},
     "output_type": "display_data"
    },
    {
     "data": {
      "image/png": "[encoded data removed]",
      "text/plain": [
       "<matplotlib.figure.Figure at 0x7fe5d8671110>"
      ]
     },
     "metadata": {},
     "output_type": "display_data"
    }
   ],
   "source": [
    "print(\"The input datacubes are stored in a 3-D array with a shape of {0}. \".format(dataset.input.shape)\n",
    "      + \"The temporal and spatial dimentions have been collapsed\")\n",
    "\n",
    "plt.figure()\n",
    "plt.plot(dataset.wvs, 'bo')\n",
    "plt.ylabel(\"Wavelength (microns)\")\n",
    "plt.xlabel(\"Filenumber\")\n",
    "\n",
    "plt.figure()\n",
    "plt.plot(dataset.PAs - dataset.PAs[0], 'bo')\n",
    "plt.ylabel(\"Field Rotation (degrees)\")\n",
    "plt.xlabel(\"Filenumber\")"
   ]
  },
  {
   "cell_type": "markdown",
   "metadata": {},
   "source": [
    "## Run KLIP\n",
    "\n",
    "Now what you've all been waiting for.. time to run PSF subtraction using the KLIP algorithm. Please read the Basic KLIP Tutorial above for a in-depth explaination of how to tweak the parameters"
   ]
  },
  {
   "cell_type": "code",
   "execution_count": 5,
   "metadata": {},
   "outputs": [
    {
     "name": "stdout",
     "output_type": "stream",
     "text": [
      "Beginning ADI+SDI KLIP\n",
      "Begin align and scale images for each wavelength\n",
      "Wavelength 1.11 with index 0 has finished align and scale. Queuing for KLIP\n",
      "Wavelength 1.145 with index 4 has finished align and scale. Queuing for KLIP\n",
      "Wavelength 1.128 with index 1 has finished align and scale. Queuing for KLIP\n",
      "Wavelength 1.133 with index 2 has finished align and scale. Queuing for KLIP\n",
      "Wavelength 1.163 with index 7 has finished align and scale. Queuing for KLIP\n",
      "Wavelength 1.151 with index 5 has finished align and scale. Queuing for KLIP\n",
      "Wavelength 1.139 with index 3 has finished align and scale. Queuing for KLIP\n",
      "Wavelength 1.157 with index 6 has finished align and scale. Queuing for KLIP\n",
      "Wavelength 1.174 with index 9 has finished align and scale. Queuing for KLIP\n",
      "Wavelength 1.169 with index 8 has finished align and scale. Queuing for KLIP\n",
      "Wavelength 1.181 with index 10 has finished align and scale. Queuing for KLIP\n",
      "Wavelength 1.193 with index 12 has finished align and scale. Queuing for KLIP\n",
      "Wavelength 1.199 with index 13 has finished align and scale. Queuing for KLIP\n",
      "Wavelength 1.187 with index 11 has finished align and scale. Queuing for KLIP\n",
      "Wavelength 1.211 with index 15 has finished align and scale. Queuing for KLIP\n",
      "Wavelength 1.205 with index 14 has finished align and scale. Queuing for KLIP\n",
      "Wavelength 1.217 with index 16 has finished align and scale. Queuing for KLIP\n",
      "Wavelength 1.232 with index 18 has finished align and scale. Queuing for KLIP\n",
      "Wavelength 1.224 with index 17 has finished align and scale. Queuing for KLIP\n",
      "Wavelength 1.238 with index 19 has finished align and scale. Queuing for KLIP\n",
      "Wavelength 1.243 with index 20 has finished align and scale. Queuing for KLIP\n",
      "Wavelength 1.257 with index 22 has finished align and scale. Queuing for KLIP\n",
      "Wavelength 1.25 with index 21 has finished align and scale. Queuing for KLIP\n",
      "Wavelength 1.263 with index 23 has finished align and scale. Queuing for KLIP\n",
      "Wavelength 1.27 with index 24 has finished align and scale. Queuing for KLIP\n",
      "Wavelength 1.276 with index 25 has finished align and scale. Queuing for KLIP\n",
      "Wavelength 1.284 with index 26 has finished align and scale. Queuing for KLIP\n",
      "Wavelength 1.297 with index 28 has finished align and scale. Queuing for KLIP\n",
      "Wavelength 1.304 with index 29 has finished align and scale. Queuing for KLIP\n",
      "Wavelength 1.291 with index 27 has finished align and scale. Queuing for KLIP\n",
      "Wavelength 1.315 with index 31 has finished align and scale. Queuing for KLIP\n",
      "Wavelength 1.308 with index 30 has finished align and scale. Queuing for KLIP\n",
      "Wavelength 1.322 with index 32 has finished align and scale. Queuing for KLIP\n",
      "Wavelength 1.327 with index 33 has finished align and scale. Queuing for KLIP\n",
      "Wavelength 1.337 with index 35 has finished align and scale. Queuing for KLIP\n",
      "Wavelength 1.339 with index 36 has finished align and scale. Queuing for KLIP\n",
      "Wavelength 1.333 with index 34 has finished align and scale. Queuing for KLIP\n",
      "Total number of tasks for KLIP processing is 1332\n",
      "0.7508% done (9/1332 completed)\n",
      "1.502% done (19/1332 completed)\n",
      "2.252% done (29/1332 completed)\n",
      "3.003% done (39/1332 completed)\n",
      "3.754% done (49/1332 completed)\n",
      "4.505% done (59/1332 completed)\n",
      "5.255% done (69/1332 completed)\n",
      "6.006% done (79/1332 completed)\n",
      "6.757% done (89/1332 completed)\n",
      "7.508% done (99/1332 completed)\n",
      "8.258% done (109/1332 completed)\n",
      "9.009% done (119/1332 completed)\n",
      "9.76% done (129/1332 completed)\n",
      "10.51% done (139/1332 completed)\n",
      "11.26% done (149/1332 completed)\n",
      "12.01% done (159/1332 completed)\n",
      "12.76% done (169/1332 completed)\n",
      "13.51% done (179/1332 completed)\n",
      "14.26% done (189/1332 completed)\n",
      "15.02% done (199/1332 completed)\n",
      "15.77% done (209/1332 completed)\n",
      "16.52% done (219/1332 completed)\n",
      "17.27% done (229/1332 completed)\n",
      "18.02% done (239/1332 completed)\n",
      "18.77% done (249/1332 completed)\n",
      "19.52% done (259/1332 completed)\n",
      "20.27% done (269/1332 completed)\n",
      "21.02% done (279/1332 completed)\n",
      "21.77% done (289/1332 completed)\n",
      "22.52% done (299/1332 completed)\n",
      "23.27% done (309/1332 completed)\n",
      "24.02% done (319/1332 completed)\n",
      "24.77% done (329/1332 completed)\n",
      "25.53% done (339/1332 completed)\n",
      "26.28% done (349/1332 completed)\n",
      "27.03% done (359/1332 completed)\n",
      "27.78% done (369/1332 completed)\n",
      "28.53% done (379/1332 completed)\n",
      "29.28% done (389/1332 completed)\n",
      "30.03% done (399/1332 completed)\n",
      "30.78% done (409/1332 completed)\n",
      "31.53% done (419/1332 completed)\n",
      "32.28% done (429/1332 completed)\n",
      "33.03% done (439/1332 completed)\n",
      "33.78% done (449/1332 completed)\n",
      "34.53% done (459/1332 completed)\n",
      "35.29% done (469/1332 completed)\n",
      "36.04% done (479/1332 completed)\n",
      "36.79% done (489/1332 completed)\n",
      "37.54% done (499/1332 completed)\n",
      "38.29% done (509/1332 completed)\n",
      "39.04% done (519/1332 completed)\n",
      "39.79% done (529/1332 completed)\n",
      "40.54% done (539/1332 completed)\n",
      "41.29% done (549/1332 completed)\n",
      "42.04% done (559/1332 completed)\n",
      "42.79% done (569/1332 completed)\n",
      "43.54% done (579/1332 completed)\n",
      "44.29% done (589/1332 completed)\n",
      "45.05% done (599/1332 completed)\n",
      "45.8% done (609/1332 completed)\n",
      "46.55% done (619/1332 completed)\n",
      "47.3% done (629/1332 completed)\n",
      "48.05% done (639/1332 completed)\n",
      "48.8% done (649/1332 completed)\n",
      "49.55% done (659/1332 completed)\n",
      "50.3% done (669/1332 completed)\n",
      "51.05% done (679/1332 completed)\n",
      "51.8% done (689/1332 completed)\n",
      "52.55% done (699/1332 completed)\n",
      "53.3% done (709/1332 completed)\n",
      "54.05% done (719/1332 completed)\n",
      "54.8% done (729/1332 completed)\n",
      "55.56% done (739/1332 completed)\n",
      "56.31% done (749/1332 completed)\n",
      "57.06% done (759/1332 completed)\n",
      "57.81% done (769/1332 completed)\n",
      "58.56% done (779/1332 completed)\n",
      "59.31% done (789/1332 completed)\n",
      "60.06% done (799/1332 completed)\n",
      "60.81% done (809/1332 completed)\n",
      "61.56% done (819/1332 completed)\n",
      "62.31% done (829/1332 completed)\n",
      "63.06% done (839/1332 completed)\n",
      "63.81% done (849/1332 completed)\n",
      "64.56% done (859/1332 completed)\n",
      "65.32% done (869/1332 completed)\n",
      "66.07% done (879/1332 completed)\n",
      "66.82% done (889/1332 completed)\n",
      "67.57% done (899/1332 completed)\n",
      "68.32% done (909/1332 completed)\n",
      "69.07% done (919/1332 completed)\n",
      "69.82% done (929/1332 completed)\n",
      "70.57% done (939/1332 completed)\n",
      "71.32% done (949/1332 completed)\n",
      "72.07% done (959/1332 completed)\n",
      "72.82% done (969/1332 completed)\n",
      "73.57% done (979/1332 completed)\n",
      "74.32% done (989/1332 completed)\n",
      "75.08% done (999/1332 completed)\n",
      "75.83% done (1009/1332 completed)\n",
      "76.58% done (1019/1332 completed)\n",
      "77.33% done (1029/1332 completed)\n",
      "78.08% done (1039/1332 completed)\n",
      "78.83% done (1049/1332 completed)\n",
      "79.58% done (1059/1332 completed)\n",
      "80.33% done (1069/1332 completed)\n",
      "81.08% done (1079/1332 completed)\n",
      "81.83% done (1089/1332 completed)\n",
      "82.58% done (1099/1332 completed)\n",
      "83.33% done (1109/1332 completed)\n",
      "84.08% done (1119/1332 completed)\n",
      "84.83% done (1129/1332 completed)\n",
      "85.59% done (1139/1332 completed)\n",
      "86.34% done (1149/1332 completed)\n",
      "87.09% done (1159/1332 completed)\n",
      "87.84% done (1169/1332 completed)\n",
      "88.59% done (1179/1332 completed)\n",
      "89.34% done (1189/1332 completed)\n",
      "90.09% done (1199/1332 completed)\n",
      "90.84% done (1209/1332 completed)\n",
      "91.59% done (1219/1332 completed)\n",
      "92.34% done (1229/1332 completed)\n",
      "93.09% done (1239/1332 completed)\n",
      "93.84% done (1249/1332 completed)\n",
      "94.59% done (1259/1332 completed)\n",
      "95.35% done (1269/1332 completed)\n",
      "96.1% done (1279/1332 completed)\n",
      "96.85% done (1289/1332 completed)\n",
      "97.6% done (1299/1332 completed)\n",
      "98.35% done (1309/1332 completed)\n",
      "99.1% done (1319/1332 completed)\n",
      "99.85% done (1329/1332 completed)\n",
      "Closing threadpool\n",
      "Derotating Images...\n",
      "Writing Images to directory /home/rboyden/arizona/coursework/ast502/final_project/pyklip/examples\n"
     ]
    },
    {
     "name": "stderr",
     "output_type": "stream",
     "text": [
      "/home/rboyden/arizona/coursework/ast502/final_project/pyklip/pyklip/parallelized.py:1347: RuntimeWarning: Mean of empty slice\n",
      "  KLmode_cube = np.nanmean(dataset.output, axis=(1,2))\n",
      "/home/rboyden/arizona/coursework/ast502/final_project/pyklip/pyklip/parallelized.py:1364: RuntimeWarning: Mean of empty slice\n",
      "  KLmode_spectral_cubes = np.nanmean(dataset.output, axis=1)\n"
     ]
    }
   ],
   "source": [
    "outputdir = \".\" # we are going to save the files in the same directory\n",
    "prefix = \"pyklip-betpic-j-131210-k100a9s4m1\" # a file prefix to summarize this reduction\n",
    "\n",
    "\n",
    "parallelized.klip_dataset(dataset, outputdir=outputdir, fileprefix=prefix,\n",
    "                          annuli=9, subsections=4, movement=1, numbasis=[1,20,50,100],\n",
    "                          calibrate_flux=True, mode=\"ADI+SDI\")"
   ]
  },
  {
   "cell_type": "markdown",
   "metadata": {},
   "source": [
    "## Output Files\n",
    "\n",
    "Now that KLIP has finished, it also has rotated the images to be all North up and stacked them in time. Here are now all the output files it creased (provided you didn't chagne the fileprefix or any of the PSF subtraction parameters):\n",
    "\n",
    "  1. *pyklip-betpic-j-131210-k100a9s4m1-KL1-speccube.fits* : Spectral cube using 1 KL mode to model the stellar PSF\n",
    "  2. *pyklip-betpic-j-131210-k100a9s4m1-KL20-speccube.fits* : Spectral cube using 20 KL modes\n",
    "  3. *pyklip-betpic-j-131210-k100a9s4m1-KL50-speccube.fits* : Spectral cube using 50 KL modes\n",
    "  4. *pyklip-betpic-j-131210-k100a9s4m1-KL100-speccube.fits* : Spectral cube using 100 KL modes\n",
    "  5. *pyklip-betpic-j-131210-k100a9s4m1-KLmodes-all.fits* : KL mode cube (a cube that is collapsed in time and in wavelength) with the 3rd dimension being the number of KL modes used. This cube specifically has 4 frames, one for each KL cutoff, with increasing KL modes. "
   ]
  },
  {
   "cell_type": "markdown",
   "metadata": {},
   "source": [
    "### Spectral Cube\n",
    "\n",
    "Here is the KL 20 spectral mode datacube as we scroll through the wavelengths"
   ]
  },
  {
   "cell_type": "code",
   "execution_count": 6,
   "metadata": {},
   "outputs": [
    {
     "name": "stdout",
     "output_type": "stream",
     "text": [
      "The dimensions of this datacube is (37, 281, 281)\n"
     ]
    },
    {
     "data": {
      "application/vnd.jupyter.widget-view+json": {
       "model_id": "9a7997866ad6464d8082363bcc5432f0"
      }
     },
     "metadata": {},
     "output_type": "display_data"
    },
    {
     "data": {
      "text/plain": [
       "<function __main__.pltcube>"
      ]
     },
     "execution_count": 6,
     "metadata": {},
     "output_type": "execute_result"
    }
   ],
   "source": [
    "# Read in the data and grab the data from the HDU card in index 1\n",
    "spec_hdulist = fits.open(\"{out}/{pre}-KL20-speccube.fits\".format(out=outputdir, pre=prefix))\n",
    "speccube_kl20 = spec_hdulist[1].data\n",
    "specheader_kl20 = spec_hdulist[1].header\n",
    "print(\"The dimensions of this datacube is {0}\".format(speccube_kl20.shape))\n",
    "\n",
    "# reconstruct the wavelength axis from the header. \n",
    "# We aren't using dataset.wavelength because to plot the widget plot below, we need a linear wavelenght solution\n",
    "cube_wvs_step = specheader_kl20['CD3_3'] # \\Delta \\lambda for each wavelength slice of the cube\n",
    "cube_wvs_min = specheader_kl20['CRVAL3'] # wavelength of slice 0 of the spectral cube\n",
    "cube_wvs = cube_wvs_min + np.arange(speccube_kl20.shape[0]) * cube_wvs_step #construct the wavelength axis\n",
    "cube_wvs_max = cube_wvs[-1] # wavelength of last slice of the spectral cube\n",
    "\n",
    "\n",
    "def pltcube(selected_wv):\n",
    "    \"\"\"\n",
    "    Function to refresh the plot with the frame from the selected_wv\n",
    "    \n",
    "    Args:\n",
    "        selected_wv: the wavelength selected by the interactive slider bar widget\n",
    "    \"\"\"\n",
    "    wv_index = np.argmin(np.abs(selected_wv - cube_wvs)) # get the index into the array corresponding to the wavelength\n",
    "    plt.figure(figsize=(8,8)) # create the plot. Make it big\n",
    "    plt.imshow(speccube_kl20[wv_index], cmap='viridis', vmin=-5e-7, vmax=1e-5) # plot the image\n",
    "    plt.gca().invert_yaxis() # flip the y axis so that [0,0] is in the bottom left corner. \n",
    "    plt.title(\"{0:.3f} microns\".format(selected_wv), fontsize=20)\n",
    "    plt.show()\n",
    "    \n",
    "# run the interactive widget\n",
    "widgets.interact(pltcube, selected_wv=(cube_wvs_min, cube_wvs_max, cube_wvs_step))"
   ]
  },
  {
   "cell_type": "markdown",
   "metadata": {},
   "source": [
    "### KL Mode Cube\n",
    "\n",
    "Now we will scrol through using different KL mode cutoffs in data that has been collapsed in time and wavelength. This allows us visiually get a feel for how many KL modes to use to model the stellar PSF."
   ]
  },
  {
   "cell_type": "code",
   "execution_count": 7,
   "metadata": {},
   "outputs": [
    {
     "name": "stdout",
     "output_type": "stream",
     "text": [
      "The dimensions of this datacube is (4, 281, 281)\n"
     ]
    },
    {
     "data": {
      "application/vnd.jupyter.widget-view+json": {
       "model_id": "d1af3182a60d47beab927450eb249b12"
      }
     },
     "metadata": {},
     "output_type": "display_data"
    },
    {
     "data": {
      "text/plain": [
       "<function __main__.pltcube>"
      ]
     },
     "execution_count": 7,
     "metadata": {},
     "output_type": "execute_result"
    }
   ],
   "source": [
    "# Read in the data and grab the data from the HDU card in index 1\n",
    "kl_hdulist = fits.open(\"{out}/{pre}-KLmodes-all.fits\".format(out=outputdir, pre=prefix))\n",
    "klcube = kl_hdulist[1].data\n",
    "klheader = kl_hdulist[1].header\n",
    "print(\"The dimensions of this datacube is {0}\".format(klcube.shape))\n",
    "\n",
    "# reconstruct the KL Mode cutoff axis from the header. \n",
    "num_cutoffs = klcube.shape[0] # number of KL mode cutoffs saved\n",
    "kl_cutoffs = [klheader['KLMODE{0}'.format(cutoff_i)] for cutoff_i in range(num_cutoffs) ] # grab all the KL mode cutoffs from the header\n",
    "\n",
    "def pltcube(selected_kl_index):\n",
    "    \"\"\"\n",
    "    Function to refresh the plot with the frame from the selected_kl_index\n",
    "    \n",
    "    Args:\n",
    "        selected_wv: the datacube index selected by the widget\n",
    "    \"\"\"\n",
    "    plt.figure(figsize=(8,8))\n",
    "    plt.imshow(klcube[selected_kl_index], cmap='viridis', vmin=-5e-7, vmax=1e-5)\n",
    "    plt.gca().invert_yaxis() # flip the y axis so that [0,0] is in the bottom left corner. \n",
    "    plt.title(\"{0} KL Modes\".format(kl_cutoffs[selected_kl_index]), fontsize=20)\n",
    "    plt.show()\n",
    "    \n",
    "widgets.interact(pltcube, selected_kl_index=(0, num_cutoffs-1, 1))"
   ]
  },
  {
   "cell_type": "code",
   "execution_count": null,
   "metadata": {
    "collapsed": true
   },
   "outputs": [],
   "source": []
  }
 ],
 "metadata": {
  "kernelspec": {
   "display_name": "Python 2",
   "language": "python",
   "name": "python2"
  },
  "language_info": {
   "codemirror_mode": {
    "name": "ipython",
    "version": 2
   },
   "file_extension": ".py",
   "mimetype": "text/x-python",
   "name": "python",
   "nbconvert_exporter": "python",
   "pygments_lexer": "ipython2",
   "version": "2.7.13"
  }
 },
 "nbformat": 4,
 "nbformat_minor": 1
}
