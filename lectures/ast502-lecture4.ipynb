{
 "cells": [
  {
   "cell_type": "markdown",
   "metadata": {
    "slideshow": {
     "slide_type": "slide"
    }
   },
   "source": [
    "# AST 502: Lecture 4: Maximum Likelihood Estimator\n",
    "\n",
    "## Ragadeepika Pucha, Fall 2017, Chapter 4.1-4.4\n",
    "\n",
    "A quick review of \n",
    "- Statistical Inference.\n",
    "- The Likelihood Function.\n",
    "- Maximum Likelihood Estimator.\n",
    "- MLE Applied to Homoscedastic and Heteroscedastic Gaussians.\n",
    "- The Goodness of Fit.\n",
    "- Expectation Maximization Algorithm.\n",
    "\n",
    "based on Ivezic book and UW Astr 324 Class."
   ]
  },
  {
   "cell_type": "markdown",
   "metadata": {
    "slideshow": {
     "slide_type": "slide"
    }
   },
   "source": [
    "# Statistical Inference -\n",
    "## Drawing Conclusions from the data\n",
    "\n",
    "There are three main types of inference -\n",
    "\n",
    "- **Point Estimation:** Based on the available data, what is the best estimate of a parameter?\n",
    "- **Confidence Estimation:** How confident are we about the point estimation?\n",
    "- **Hypothesis Testing:** Are the data consistent with a given hypothesis or model?"
   ]
  },
  {
   "cell_type": "markdown",
   "metadata": {
    "slideshow": {
     "slide_type": "slide"
    }
   },
   "source": [
    "# Frequentist VS Bayesian Inference -\n",
    "\n",
    "### Frequentist -\n",
    "- _Classical_ approach - Probabilities refer to the relative frequencies of events.\n",
    "- Data varies\n",
    "- Parameters are fixed.\n",
    "\n",
    "### Bayesian -\n",
    "- Probability is the degree of subjective belief.\n",
    "- Depends on the set of initial conditions - known as _Priors_.\n",
    "- Data is fixed.\n",
    "- Inferences about the parameter are made by producing probability distributions of them. Estimates are then made based of these distributions.\n",
    "\n",
    "Interested Further Reading - http://www.behind-the-enemy-lines.com/2008/01/are-you-bayesian-or-frequentist-or.html"
   ]
  },
  {
   "cell_type": "markdown",
   "metadata": {
    "slideshow": {
     "slide_type": "slide"
    }
   },
   "source": [
    "# The Likelihood Function -\n",
    "\n",
    "This is a quantitative measurement of our measuring process - Probability of _data_ given a _model_.\n",
    "\n",
    "Assume a parent distribution $N (\\mu, \\sigma)$ from which our data $\\{x_i\\}$ are being drawn. The likelihood of a given value $x_i$ is just given by inputting the value in the probability distribution function. Assuming that the individual values are independent, the likelihood of the entire data (not just one measurement) is given by the likelihood function, $L$ - \n",
    "\n",
    "$$L = p(\\{x_i\\})|M(\\theta)) = \\prod_{i=1}^{n}p(x_i|M(\\theta))$$\n",
    "\n",
    "where $M(\\theta)$ stands for our model and $\\theta$ are the parameters for the model.\n",
    "\n",
    "For example, for the Gaussian distribution probability of getting a specific value of $x$ is given by:\n",
    "$$p(x|\\mu,\\sigma) = \\frac{1}{\\sigma\\sqrt{2\\pi}} \\exp\\left(\\frac{-(x-\\mu)^2}{2\\sigma^2}\\right)$$\n",
    "\n",
    "### Note:\n",
    "- Although L is the \"Probability of the data given the model\", it is not a true pdf - does not normalize to 1.\n",
    "- It can be a function of both the data as well as the model."
   ]
  },
  {
   "cell_type": "markdown",
   "metadata": {
    "slideshow": {
     "slide_type": "slide"
    }
   },
   "source": [
    "# Maximum Likelihood Estimation (MLE)\n",
    "\n",
    "This is relevant in both Bayesian and Frequentist approaches.\n",
    "\n",
    "### Maximum Likelihood Approach\n",
    "Maximum Likelihood estimation consists of the following steps:\n",
    "\n",
    "1. **Hypothesis:** Fomulate a model, a _hypothesis_, about how the data is generated. The resulting inferences are strongly dependent of the quality of this assumption. Models are typically descibed using a set of parameters $\\theta$, and written as $M(\\theta)$.\n",
    "\n",
    "2. **Maximum Likelihood Estimation:** Search for the best model parameters $\\theta$ which maximizes the likelihood $L(\\theta) = p(data|model)$. This search gives the MLE point estimates.\n",
    "\n",
    "3. **Estimate Uncertainty:** Determine the confidence region for the model parameters. It can be done analytically with some approximations, or numerically for arbitraty models using general frequentist techniques, such as bootstrap, jackknife, and cross-validation.\n",
    "\n",
    "4. **Hypothesis Testing:** Perform hypothesis tests as needed to make conclusions about the model and the point estimates."
   ]
  },
  {
   "cell_type": "markdown",
   "metadata": {
    "slideshow": {
     "slide_type": "slide"
    }
   },
   "source": [
    "## Example: Measuring the Position of a Quasar\n",
    "_credits: UW ASTR324 Lectures_\n",
    "\n",
    "Let's assume we want to estimate the position $x$ of a quasar from a series of individual astrometric measurements.\n",
    "\n",
    "1. We adopt a model where the observed quasar does not move, and individual measurement errors are drawn from a normal distribution.\n",
    "\n",
    "2. We derive the expression for the likelihood of there being a quasar at position $x_{0}$ that gives rise to our individual measurements. We find the value of $x'_{0}$ for which the likelihood is maximum.\n",
    "\n",
    "3. Determine the error bars of our measurement.\n",
    "\n",
    "4. We test whether what we've observed is consistent with our adopted model. "
   ]
  },
  {
   "cell_type": "markdown",
   "metadata": {
    "slideshow": {
     "slide_type": "slide"
    }
   },
   "source": [
    "## Back to the Likelihood Function\n",
    "\n",
    "The likelihood function, $L$ is - \n",
    "\n",
    "$$L = p(\\{x_i\\})|M(\\theta)) = \\prod_{i=1}^{n}p(x_i|M(\\theta))$$\n",
    "\n",
    "If the parent distribution is considered to be gaussian, then this can be written as - \n",
    "\n",
    "$$L = \\left( \\prod_{i=1}^n \\frac{1}{\\sigma\\sqrt{2\\pi}} \\right) \\exp\\left( -\\frac{1}{2} \\sum \\left[\\frac{(x_i-\\mu)}{\\sigma} \\right]^2 \\right)$$\n",
    "\n",
    "The exponential part is just \n",
    "\n",
    "$$\\exp \\left(-\\frac{\\chi^2}{2}\\right)$$ as,\n",
    "\n",
    "$$\\chi^2 = \\sum_{i=1}^n \\left ( \\frac{x_i-\\mu}{\\sigma}\\right)^2.$$\n",
    "\n",
    "So, maximizing the likelihood is the same as minimizing $\\chi^2$."
   ]
  },
  {
   "cell_type": "markdown",
   "metadata": {
    "slideshow": {
     "slide_type": "slide"
    }
   },
   "source": [
    "# Core Idea Behind Maximum Likelihood Estimators\n",
    "\n",
    "Let's say that we know that some data were drawn from a Gaussian distribution, but we don't know the $\\theta = (\\mu, \\sigma)$ values of that distribution. \n",
    "\n",
    "In such a case, the MLE tells us to think of the likelihood as a function of the unknown parameters that maximize the value of the function. Those will be our Maximum Likelihood Estimators for the true values of the model.\n"
   ]
  },
  {
   "cell_type": "markdown",
   "metadata": {
    "slideshow": {
     "slide_type": "slide"
    }
   },
   "source": [
    "# MLE Applied to Homoscedastic Gaussian\n",
    "\n",
    "This just means that all the measurements have the same error, say $\\sigma$. If the measurements can have different errors, then its called _heteroscedastic_.\n",
    "\n",
    "For an experiment with the set of measured positions $D = \\{x_i\\}$ in one dimension with Guassian errors, the likelihood function is:\n",
    "\n",
    "$$L = p(\\{x_i\\})|M(\\theta))= \\left( \\prod_{i=1}^n \\frac{1}{\\sigma\\sqrt{2\\pi}} \\right) \\exp\\left( -\\frac{1}{2} \\sum \\left[\\frac{-(x_i-\\mu)}{\\sigma} \\right]^2 \\right)$$\n",
    "\n",
    "If $\\sigma$ is both constant and known, then there is only one parameter for the model, $\\theta = \\mu$.\n",
    "\n",
    "Taking log on both sides - \n",
    "\n",
    "$$\\ln L = constant - \\frac{1}{2}\\sum_{i=1}^{n} \\left[\\frac{(x_i-\\mu)^2}{\\sigma^2} \\right] $$\n",
    "\n",
    "If the estimate of $\\mu$ is $\\mu_{0}$ (say), then this can be found by maximizing the likelihood function.\n",
    "\n",
    "$$\\frac{d\\;{\\rm lnL}(\\mu)}{d\\mu}\\Biggr\\rvert_{\\mu_{0}} \\equiv 0$$\n",
    "\n",
    "That gives $$ \\sum_{i=1}^N \\frac{(x_i - \\mu_{0})}{\\sigma^2} = 0$$\n",
    "\n",
    "Since $\\sigma$ is a constant, we get - \n",
    "\n",
    "$$\\sum_{i=1}^N x_i = \\sum_{i=1}^N \\mu_{0} = N \\mu_{0}$$\n",
    "\n",
    "Thus we find that\n",
    "$$\\mu_{0} = \\frac{1}{N}\\sum_{i=1}^N x_i$$\n",
    "which is just the arithmetic mean of all the measurements."
   ]
  },
  {
   "cell_type": "markdown",
   "metadata": {
    "slideshow": {
     "slide_type": "slide"
    }
   },
   "source": [
    "# Example\n",
    "\n",
    "Assume a Gaussian distribution with $\\mu$ = 5 and $\\sigma$ = 1. Lets simulate 10 measurements and comupte the MLE of $\\mu$."
   ]
  },
  {
   "cell_type": "code",
   "execution_count": 3,
   "metadata": {
    "slideshow": {
     "slide_type": "subslide"
    }
   },
   "outputs": [
    {
     "data": {
      "text/plain": [
       "<matplotlib.legend.Legend at 0x111b4dd90>"
      ]
     },
     "execution_count": 3,
     "metadata": {},
     "output_type": "execute_result"
    },
    {
     "data": {
      "image/png": "[encoded data removed]",
      "text/plain": [
       "<matplotlib.figure.Figure at 0x111781b50>"
      ]
     },
     "metadata": {},
     "output_type": "display_data"
    }
   ],
   "source": [
    "# Execute this cell\n",
    "%matplotlib inline\n",
    "import numpy as np\n",
    "from scipy.stats import norm\n",
    "from matplotlib import pyplot as plt\n",
    "\n",
    "from astroML.plotting import setup_text_plots\n",
    "setup_text_plots(fontsize=15, usetex=False)\n",
    "\n",
    "#------------------------------------------------------------\n",
    "np.random.seed(seed=42)\n",
    "Nsamples=1000                                                                # Make changes here\n",
    "measurements = np.random.normal(5, 1, Nsamples)\n",
    "mu = np.average(measurements)\n",
    "\n",
    "#------------------------------------------------------------\n",
    "# plot the distributions\n",
    "fig, ax = plt.subplots(figsize=(10, 7.5))\n",
    "dist = norm(mu, 1)\n",
    "dist_p = norm(5,1)\n",
    "C = (1./(2.*np.pi))**(10./2.)\n",
    "x = np.linspace(0, 10, 1000)\n",
    "plt.plot(x, C* dist.pdf(x), c='black',label=r'$\\mu_{0}=%.2f,\\ \\sigma=1$' % mu)\n",
    "plt.plot(x, C* dist_p.pdf(x), c = 'red', label=r'$\\mu = 5,\\ \\sigma = 1$')\n",
    "#plt.axvline(x=5)\n",
    "\n",
    "plt.xlim(0, 10)\n",
    "plt.ylim(0, 0.5*C)\n",
    "\n",
    "plt.xlabel('$\\mu$')\n",
    "plt.ylabel(r'$L(\\{x\\}|\\mu,\\sigma=1)$')\n",
    "plt.title('Likelihood of $\\mu$')\n",
    "\n",
    "plt.legend()"
   ]
  },
  {
   "cell_type": "markdown",
   "metadata": {
    "slideshow": {
     "slide_type": "slide"
    }
   },
   "source": [
    "# Quantifying Estimate Uncertainty\n",
    "\n",
    "The uncertainty on the MLEs are obtained by the second (partial) derivatives of the log-likelihood:\n",
    "\n",
    "$$\\sigma_{jk} = \\left( - \\frac{d^2}{d\\theta_j} \\frac{\\ln L}{d\\theta_k} \\Biggr\\rvert_{\\theta=\\theta_{0}}\\right)^{-1/2}$$\n",
    "\n",
    "For our estimate of $\\mu$,\n",
    "\n",
    "$$\\sigma_{\\mu} = \\left( - \\frac{d^2\\ln L(\\mu)}{d\\mu^2}\\Biggr\\rvert_{\\mu_{0}}\\right)^{-1/2}$$\n",
    "\n",
    "Solving - $$\\sigma_{\\mu} = \\frac{\\sigma}{\\sqrt{N}}.$$\n",
    "\n",
    "So, our estimator of $\\mu$ is $\\mu_{0} \\pm\\frac{\\sigma}{\\sqrt{N}}$ is our result. In other words $(\\mu_{0} - \\sigma_{\\mu}, \\mu_{0} + \\sigma_{\\mu})$ gives us our confidence interval."
   ]
  },
  {
   "cell_type": "markdown",
   "metadata": {
    "slideshow": {
     "slide_type": "slide"
    }
   },
   "source": [
    "# MLE Applied to a Heteroscedastic Gaussian:\n",
    "\n",
    "Now, we consider the measurements where the errors are different, but they are known. Since $\\sigma_{i}$ are not constant the equation of log-likelihood will be - \n",
    "\n",
    "$$\\ln L = {\\rm constant} - \\sum_{i=1}^N \\frac{(x_i - \\mu)^2}{2\\sigma_i^2}.$$\n",
    "\n",
    "Taking the derivative:\n",
    "$$\\frac{d\\;{\\rm \\ln L}(\\mu)}{d\\mu}\\Biggr\\rvert_{\\mu_{0}} = \\sum_{i=1}^N \\frac{(x_i - \\mu_{0})}{\\sigma_i^2} = 0$$\n",
    "\n",
    "$$\\sum_{i=1}^N \\frac{x_i}{\\sigma_i^2} = \\sum_{i=1}^N \\frac{\\mu_{0}}{\\sigma_i^2}$$\n",
    "\n",
    "$$\\mu_{0} = \\frac{\\sum_{i}^{N} (x_i/\\sigma_i^2)}{\\sum_{i}^N (1/\\sigma_i^2)}$$\n",
    "\n",
    "$$\\sigma_{\\mu} = \\left( \\sum_{i=1}^N \\frac{1}{\\sigma_i^2}\\right)^{-1/2}$$"
   ]
  },
  {
   "cell_type": "markdown",
   "metadata": {
    "slideshow": {
     "slide_type": "slide"
    }
   },
   "source": [
    "# Properties of the Maximum Likelihood Estimators:\n",
    "\n",
    "The most important assumption while computing the estimators is that the data truly comes from the specified model class. \n",
    "\n",
    "MLEs have the following properties -\n",
    "\n",
    "- They are consistent. As the number of data points increases, they converge to the true parameter.\n",
    "- They are asymptotically normal estimators. The distribution of the parameter estimate approaches a normal distribution, center at the MLE, as the number of data points increases.\n",
    "- They achieve the best possible error given the data at hand. No other estimator can do better in terms of efficiency using each data point to reduce the total error of the estimate. "
   ]
  },
  {
   "cell_type": "markdown",
   "metadata": {
    "slideshow": {
     "slide_type": "slide"
    }
   },
   "source": [
    "# The Goodness of Fit:\n",
    "\n",
    "The MLE approach estimates the \"best-fit\" model parameter and gives their uncertainties, but it does not tell us how good the fit is. \n",
    "\n",
    "Using the best-fit paramters, we can compute the maximum value of the likelihood, say $L_{o}$. The goodness of fit can then be described as whether or not it is likely to have obtained $ln L_{o}$ by randomly drawing from the data. This means that the distribution of $ln L$ has to be known.\n",
    "\n",
    "For the Gaussian case,\n",
    "\n",
    "$$\\ln L = constant - \\frac{1}{2} \\sum_{i=1}^{n} \\left[\\frac{(x_i-\\mu)^2}{\\sigma^2} \\right] $$\n",
    "\n",
    "If $z_{i} = (x_i - \\mu)/ \\sigma$, then $$\\ln L = {\\rm constant} - \\frac{1}{2}\\sum_{i=1}^N z_{i}^2 = {\\rm constant} - \\frac{1}{2}\\chi^2$$ \n",
    "\n",
    "Thus, the distribution of $\\ln L$ depends on the distribution of $\\chi^2$ with $N-k$ degrees of freedom, where $k$ is the number of model parameters. \n",
    "\n",
    "The expectation value of the $\\chi^2$ distribution is $N-k$ and its standard deviation is $\\sqrt{2(N-k)}$.\n",
    "\n",
    "For a good fit, we expect that $\\chi^2$ per degree of freedom, $$\\chi_{dof}^{2} = \\frac{1}{N-k} \\sum_{i=1}^N z_{i}^2 \\approx 1$$\n",
    "\n",
    "If $(\\chi^2 - 1)$ is many times larger than $\\sqrt{2/(N-k)}$, it is likely that we are not using the correct model. We can also get overly high or low values of $\\chi_{dof}^2$, if our errors are under- or over-estimated.\n"
   ]
  },
  {
   "cell_type": "markdown",
   "metadata": {
    "slideshow": {
     "slide_type": "slide"
    }
   },
   "source": [
    "# An Example:\n",
    "\n",
    "Consider a case of the luminosity of a single star being measured multiple times. Our model is that of a star with no intrinsic luminosity variation. \n",
    "\n",
    "- If the model and measurement errors are consisten, $\\chi_{dof}^2$ is close to 1.\n",
    "- $\\chi_{dof}^2$ much less than 1 indicates that the errors are overestimated, while underestimating the measurement errors can lead to a high value of $\\chi_{dof}^2$. \n",
    "- $\\chi_{dof}^2$ much larger than 1 can also indicate that our model is not a description of our data. For example, if the star has an intrinsic variation, then our model will clearly not match the data.\n",
    "\n",
    "![Ivezic, Figure 4.1](http://www.astroml.org/_images/fig_chi2_eval_1.png)\n"
   ]
  },
  {
   "cell_type": "markdown",
   "metadata": {
    "slideshow": {
     "slide_type": "slide"
    }
   },
   "source": [
    "# MLE Applied to Gaussian Mixtures: \n",
    "\n",
    "- Data likelihood can be a complex function of many parameters that often does not admist an easy solution. Numerical methods need to be applied.\n",
    "\n",
    "- A special case of a fairly complex likelihood, but which can still be maximized using a relatively simple method is the case of Gaussian Mixtures.\n",
    "\n",
    "## Gaussian Mixture Model\n",
    "\n",
    "The likelihood of $x_i$ for a Gaussian mixture model is given by $$p(x_i|\\theta) = \\sum_{j=1}^{M} \\alpha_{j} N(\\mu_j, \\sigma_{j})$$\n",
    "\n",
    "where dependence on $x_i$ comes from a Guassian $N(\\mu_j, \\sigma_j)$. \n",
    "\n",
    "The parameters that need to be estimated for a given data now include the normalization factors for each Guassian, $\\alpha_{j}$, and its parameters $\\mu_{j}$ and $\\sigma_{j}$. It is assumed that the data have negligible uncertainties and $M$ is given. \n",
    "\n",
    "Since the likelihood of a single $x_i$ is a true pdf, $$ \\sum_{j=1}^{M} \\alpha_{j} = 1 $$\n",
    "\n",
    "The log-likelihood for the whole data set is - $$\\ln L = \\sum_{j=1}^{N} \\ln \\left[\\sum_{j=1}^{M} \\alpha_{j} N(\\mu_{j}, \\sigma_{j})\\right] $$ and needs to be maximized as a function of $k = (3M - 1)$ parameters.\n",
    "\n"
   ]
  },
  {
   "cell_type": "markdown",
   "metadata": {
    "slideshow": {
     "slide_type": "slide"
    }
   },
   "source": [
    " ### Class Labels and Hidden Variables - \n",
    " \n",
    "If each of the $M$ Gaussian components are interpreted as different classes, then a particular $x_i$ was generated by one and only one of the individual Gaussian components, then the index $j$ is called as a _class label_. The _hidden variable_ here is the class label $j$ responsible for generating each $x_i$. \n",
    "\n",
    "If the class label for each $x$ is known, then the maximization problem is trivial. All the data could be sorted into $M$ subsamples according to their label. Since the class labels are not known, we can only determine the probability that a datum $x_i$ belongs to a class $j$.\n",
    "\n",
    "$$ p(j|x_i) = \\frac{\\alpha_j N(\\mu_j,\\sigma_j)}{\\sum_{j=1}^{M} \\alpha_j N(\\mu_j,\\sigma_j)} \\hspace{10pt} (By \\hspace{3pt} Baye's \\hspace{3pt} Rule)$$"
   ]
  },
  {
   "cell_type": "markdown",
   "metadata": {
    "slideshow": {
     "slide_type": "slide"
    }
   },
   "source": [
    "# Expectation Maximixation Algorithm:\n",
    "\n",
    "The EM algorithm can be used to make the maximization of the likelihood fast and straightforward in practice. The key ingredient of the iterative EM algorithm is the assumption that the class probability is known and fixed for each iteration.\n",
    "\n",
    "The EM algorithm is not limited to Gaussian mixtures, so we can use a more generalized pdf for each component, say $p_j(x_i|\\theta)$.\n",
    "\n",
    "$$\\ln L = \\sum_{j=1}^{N} \\ln \\left[\\sum_{j=1}^{M} \\alpha_{j} p_j(x_i|\\theta)\\right] $$\n",
    "\n",
    "Taking partial derivative of $\\ln L$ w.r.t the parameter $\\theta_j$:\n",
    "\n",
    "$$ \\frac{\\partial \\ln L}{\\partial \\theta_j} = \\sum_{i=1}^{N} \\frac{\\alpha_j}{\\sum_{j=1}^M \\alpha_j p_j (x_i|\\theta)} \\left[\\frac{\\partial p_j(x_i|\\theta)}{\\partial \\theta_j} \\right] $$\n",
    "\n",
    "This can be re-written as:\n",
    "\n",
    "$$ \\frac{\\partial \\ln L}{\\partial \\theta_j} = \\sum_{i=1}^{N} \\frac{\\alpha_j p_j (x_i|\\theta)}{\\sum_{j=1}^M \\alpha_j p_j (x_i|\\theta)} \\left[\\frac{1}{p_j (x_i|\\theta)} \\frac{\\partial p_j(x_i|\\theta)}{\\partial \\theta_j} \\right] = \\sum_{i=1}^{N} p(j|x_i) \\left[\\frac{\\partial ln \\hspace{2pt} p_j(x_i|\\theta)}{\\partial \\theta_j} \\right]$$  "
   ]
  },
  {
   "cell_type": "markdown",
   "metadata": {
    "slideshow": {
     "slide_type": "slide"
    }
   },
   "source": [
    "Since we are assuming that the class probability will remain fixed in a given iteration, introduce $p(j|x_i) = w_{ij}$. When $p_{j}(x_i|\\theta)$ is Gaussian, then it leads to a particularly simple constraints for the model parameters.\n",
    "\n",
    "$$ \\frac{\\partial ln L}{\\partial \\theta_j} = \\sum_{i=1}^{N} w_{ij} \\frac{\\partial}{\\partial \\theta_j} \\left[ln \\sigma_j + \\frac{(x_i - \\mu_j)^2}{2 \\sigma^2} \\right] $$ where $\\theta_j$ corresponds to $\\mu_j$ or $\\sigma_j$. By maximizing individually, we get the estimators.\n",
    "\n",
    "$$ \\mu_j = \\frac{\\sum_{i=1}^{N} w_{ij}x_{i}}{\\sum_{i=1}{N} w_{ij}} $$\n",
    "\n",
    "and\n",
    "\n",
    "$$ \\sigma_{j}^2 = \\frac{\\sum_{i=1}^{N} w_{ij} (x_i - \\mu_j)^2}{\\sum_{i=1}^{N} w_{ij}} $$\n",
    "\n",
    "From the normalization constraint, \n",
    "\n",
    "$$ \\alpha_{j} = \\frac{1}{N} \\sum_{i=1}^{N} w_{ij} $$\n",
    "\n",
    "This is the beginning of the iteration.\n",
    "\n",
    "- The algorithm is not sensitive to the initial guess of the parameter values. \n",
    "- The EM algorithm does converge.\n",
    "- However, there are a few cases when the algorithm may fail due to numerical difficulties, like when the available data are sparsely distributed, in case of outliers, or if some data points are repeated."
   ]
  },
  {
   "cell_type": "code",
   "execution_count": 29,
   "metadata": {
    "slideshow": {
     "slide_type": "subslide"
    }
   },
   "outputs": [
    {
     "name": "stderr",
     "output_type": "stream",
     "text": [
      "/Users/ragadeepika.pucha/anaconda/lib/python2.7/site-packages/sklearn/utils/deprecation.py:52: DeprecationWarning: Class GMM is deprecated; The class GMM is deprecated in 0.18 and will be  removed in 0.20. Use class GaussianMixture instead.\n",
      "  warnings.warn(msg, category=DeprecationWarning)\n",
      "/Users/ragadeepika.pucha/anaconda/lib/python2.7/site-packages/sklearn/utils/deprecation.py:70: DeprecationWarning: Function distribute_covar_matrix_to_match_covariance_type is deprecated; The functon distribute_covar_matrix_to_match_covariance_typeis deprecated in 0.18 and will be removed in 0.20.\n",
      "  warnings.warn(msg, category=DeprecationWarning)\n",
      "/Users/ragadeepika.pucha/anaconda/lib/python2.7/site-packages/sklearn/utils/deprecation.py:70: DeprecationWarning: Function log_multivariate_normal_density is deprecated; The function log_multivariate_normal_density is deprecated in 0.18 and will be removed in 0.20.\n",
      "  warnings.warn(msg, category=DeprecationWarning)\n",
      "/Users/ragadeepika.pucha/anaconda/lib/python2.7/site-packages/sklearn/utils/deprecation.py:70: DeprecationWarning: Function log_multivariate_normal_density is deprecated; The function log_multivariate_normal_density is deprecated in 0.18 and will be removed in 0.20.\n",
      "  warnings.warn(msg, category=DeprecationWarning)\n",
      "/Users/ragadeepika.pucha/anaconda/lib/python2.7/site-packages/sklearn/utils/deprecation.py:70: DeprecationWarning: Function log_multivariate_normal_density is deprecated; The function log_multivariate_normal_density is deprecated in 0.18 and will be removed in 0.20.\n",
      "  warnings.warn(msg, category=DeprecationWarning)\n"
     ]
    },
    {
     "data": {
      "text/plain": [
       "array([[-0.53709577],\n",
       "       [ 0.52900088]])"
      ]
     },
     "execution_count": 29,
     "metadata": {},
     "output_type": "execute_result"
    }
   ],
   "source": [
    "import numpy as np\n",
    "from sklearn.mixture import GMM\n",
    "X = np.random.normal(size = (100, 1)) # 100 points in 1 dimension\n",
    "model = GMM(2) # two components\n",
    "model.fit(X)\n",
    "\n",
    "model.means_  # the locations of the best fit components"
   ]
  },
  {
   "cell_type": "raw",
   "metadata": {
    "slideshow": {
     "slide_type": "subslide"
    }
   },
   "source": [
    "# Author: Jake VanderPlas\n",
    "# License: BSD\n",
    "#   The figure produced by this code is published in the textbook\n",
    "#   \"Statistics, Data Mining, and Machine Learning in Astronomy\" (2013)\n",
    "#   For more information, see http://astroML.github.com\n",
    "#   To report a bug or issue, use the following forum:\n",
    "#    https://groups.google.com/forum/#!forum/astroml-general\n",
    "from matplotlib import pyplot as plt\n",
    "import numpy as np\n",
    "from sklearn.mixture import GMM\n",
    "\n",
    "#----------------------------------------------------------------------\n",
    "# This function adjusts matplotlib settings for a uniform feel in the textbook.\n",
    "# Note that with usetex=True, fonts are rendered with LaTeX.  This may\n",
    "# result in an error if LaTeX is not installed on your system.  In that case,\n",
    "# you can set usetex to False.\n",
    "from astroML.plotting import setup_text_plots\n",
    "setup_text_plots(fontsize=8, usetex=False)\n",
    "\n",
    "#------------------------------------------------------------\n",
    "# Set up the dataset.\n",
    "#  We'll use scikit-learn's Gaussian Mixture Model to sample\n",
    "#  data from a mixture of Gaussians.  The usual way of using\n",
    "#  this involves fitting the mixture to data: we'll see that\n",
    "#  below.  Here we'll set the internal means, covariances,\n",
    "#  and weights by-hand.\n",
    "np.random.seed(1)\n",
    "\n",
    "gmm = GMM(3, n_iter=1)\n",
    "gmm.means_ = np.array([[-1], [0], [3]])\n",
    "gmm.covars_ = np.array([[1.5], [1], [0.5]]) ** 2\n",
    "gmm.weights_ = np.array([0.3, 0.5, 0.2])\n",
    "\n",
    "X = gmm.sample(1000)\n",
    "\n",
    "#------------------------------------------------------------\n",
    "# Learn the best-fit GMM models\n",
    "#  Here we'll use GMM in the standard way: the fit() method\n",
    "#  uses an Expectation-Maximization approach to find the best\n",
    "#  mixture of Gaussians for the data\n",
    "\n",
    "# fit models with 1-10 components\n",
    "N = np.arange(1, 11)\n",
    "models = [None for i in range(len(N))]\n",
    "\n",
    "for i in range(len(N)):\n",
    "    models[i] = GMM(N[i]).fit(X)\n",
    "\n",
    "# compute the AIC and the BIC\n",
    "AIC = [m.aic(X) for m in models]\n",
    "BIC = [m.bic(X) for m in models]\n",
    "\n",
    "#------------------------------------------------------------\n",
    "# Plot the results\n",
    "#  We'll use three panels:\n",
    "#   1) data + best-fit mixture\n",
    "#   2) AIC and BIC vs number of components\n",
    "#   3) probability that a point came from each component\n",
    "\n",
    "fig = plt.figure(figsize=(5, 1.7))\n",
    "fig.subplots_adjust(left=0.12, right=0.97,\n",
    "                    bottom=0.21, top=0.9, wspace=0.5)\n",
    "\n",
    "\n",
    "# plot 1: data + best-fit mixture\n",
    "ax = fig.add_subplot(131)\n",
    "M_best = models[np.argmin(AIC)]\n",
    "\n",
    "x = np.linspace(-6, 6, 1000)\n",
    "logprob, responsibilities = M_best.eval(x)\n",
    "print (responsibilities)\n",
    "pdf = np.exp(logprob)\n",
    "pdf_individual = responsibilities * pdf[:, np.newaxis]\n",
    "\n",
    "ax.hist(X, 30, normed=True, histtype='stepfilled', alpha=0.4)\n",
    "ax.plot(x, pdf, '-k')\n",
    "ax.plot(x, pdf_individual, '--k')\n",
    "ax.text(0.04, 0.96, \"Best-fit Mixture\",\n",
    "        ha='left', va='top', transform=ax.transAxes)\n",
    "ax.set_xlabel('$x$')\n",
    "ax.set_ylabel('$p(x)$')\n",
    "\n",
    "\n",
    "# plot 2: AIC and BIC\n",
    "ax = fig.add_subplot(132)\n",
    "ax.plot(N, AIC, '-k', label='AIC')\n",
    "ax.plot(N, BIC, '--k', label='BIC')\n",
    "ax.set_xlabel('n. components')\n",
    "ax.set_ylabel('information criterion')\n",
    "ax.legend(loc=2)\n",
    "\n",
    "\n",
    "# plot 3: posterior probabilities for each component\n",
    "ax = fig.add_subplot(133)\n",
    "\n",
    "p = M_best.predict_proba(x)\n",
    "p = p[:, (1, 0, 2)]  # rearrange order so the plot looks better\n",
    "p = p.cumsum(1).T\n",
    "\n",
    "ax.fill_between(x, 0, p[0], color='gray', alpha=0.3)\n",
    "ax.fill_between(x, p[0], p[1], color='gray', alpha=0.5)\n",
    "ax.fill_between(x, p[1], 1, color='gray', alpha=0.7)\n",
    "ax.set_xlim(-6, 6)\n",
    "ax.set_ylim(0, 1)\n",
    "ax.set_xlabel('$x$')\n",
    "ax.set_ylabel(r'$p({\\rm class}|x)$')\n",
    "\n",
    "ax.text(-5, 0.3, 'class 1', rotation='vertical')\n",
    "ax.text(0, 0.5, 'class 2', rotation='vertical')\n",
    "ax.text(3, 0.3, 'class 3', rotation='vertical')\n",
    "\n",
    "plt.show()"
   ]
  },
  {
   "cell_type": "markdown",
   "metadata": {
    "slideshow": {
     "slide_type": "slide"
    }
   },
   "source": [
    "![Ivezic, Figure 4.1](http://www.astroml.org/_images/fig_GMM_1D_1.png)\n",
    "\n",
    "- Example of a one-dimensional Gaussian Mixture Model with three components. \n",
    "- Left Panel: Histogram of the data, along with the best-fit model for a mixture of three components.\n",
    "- Center Panel: Model Selection Criteria - AIC and BIC (Section 4.3.2).\n",
    "- Right Panel - Probability that a given point is drawn from each class as a function of its position. "
   ]
  },
  {
   "cell_type": "markdown",
   "metadata": {
    "slideshow": {
     "slide_type": "slide"
    }
   },
   "source": [
    "### Assumptions used in the EM algorithm -\n",
    "\n",
    "- The number of classes, M, is known.\n",
    "- The measurement erros for $\\{x_i\\}$ are negligible compared to the smallest component width, $\\sigma_j$.\n",
    "- The mixture models are Gaussian.\n",
    "\n",
    "The EM algorithm can be extended to not include these assumptions. Further explanation - Section 4.4.3."
   ]
  },
  {
   "cell_type": "markdown",
   "metadata": {
    "slideshow": {
     "slide_type": "slide"
    }
   },
   "source": [
    "# Next Steps:\n",
    "\n",
    "- Confidence Intervals - Bootstrap and Jackknife (Section 4.5).\n",
    "- Hypothesis Testing (Section 4.6)."
   ]
  }
 ],
 "metadata": {
  "celltoolbar": "Slideshow",
  "kernelspec": {
   "display_name": "Python 2",
   "language": "python",
   "name": "python2"
  },
  "language_info": {
   "codemirror_mode": {
    "name": "ipython",
    "version": 2
   },
   "file_extension": ".py",
   "mimetype": "text/x-python",
   "name": "python",
   "nbconvert_exporter": "python",
   "pygments_lexer": "ipython2",
   "version": "2.7.11"
  }
 },
 "nbformat": 4,
 "nbformat_minor": 2
}
