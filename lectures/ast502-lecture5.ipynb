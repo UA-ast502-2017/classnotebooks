{
 "cells": [
  {
   "cell_type": "markdown",
   "metadata": {
    "slideshow": {
     "slide_type": "slide"
    }
   },
   "source": [
    "# AST 502: Lecture 4: Maximum Likelihood Estimator\n",
    "## Yujing Qin, Fall 2017, Chapter 4.5, 4.8, 4.9\n",
    "Outline:\n",
    "* Nonparametric methods\n",
    "* Making a 1-d histogram\n",
    "  * Choosing the optimal bin size\n",
    "  * Estimating the histogram errors\n",
    "* Correcting the selection function\n",
    "  * Lynden-Bell's C-minus method\n",
    "  * Simple case: bivariate Gaussian with selection function\n",
    "  * Realistic example: galaxy luminosity function\n",
    "* Addressing the uncertainty\n",
    "  * Bootstrapping\n",
    "  * Jackknifing"
   ]
  },
  {
   "cell_type": "markdown",
   "metadata": {
    "slideshow": {
     "slide_type": "slide"
    }
   },
   "source": [
    "## Nonparametric methods\n",
    "\n",
    "### What are nonparametric methods?\n",
    "\n",
    "* Nonparametric $\\neq$ parameter-free: always a few knobs to turn!\n",
    "* Nonparametric methods make no (or very little) assumption about the \"true\" distribution $h(x)$\n",
    "\n",
    "### Why nonparametric?\n",
    "\n",
    "When there is no motivation to use a parametric method.\n",
    "\n",
    "Nonparametric methods allow more flexibility."
   ]
  },
  {
   "cell_type": "markdown",
   "metadata": {
    "slideshow": {
     "slide_type": "subslide"
    }
   },
   "source": [
    "## Making a 1-d histogram\n",
    "### Choosing the right bin size: a bad\\* example\n",
    "\n",
    "---\n",
    "_\\* This is not a criticism towards the paper itself_"
   ]
  },
  {
   "cell_type": "code",
   "execution_count": 21,
   "metadata": {},
   "outputs": [
    {
     "name": "stdout",
     "output_type": "stream",
     "text": [
      "Using matplotlib backend: MacOSX\n",
      "14\n"
     ]
    },
    {
     "data": {
      "text/plain": [
       "(array([  0.,   0.,   0.,   1.,   1.,   1.,   4.,   6.,  10.,  12.,  12.,\n",
       "         32.,  35.,  29.,  31.,  27.,  31.,  26.,  13.,  12.,   7.,   4.,\n",
       "          2.,   2.,   1.,   1.,   0.,   0.]),\n",
       " array([-4.        , -3.71428571, -3.42857143, -3.14285714, -2.85714286,\n",
       "        -2.57142857, -2.28571429, -2.        , -1.71428571, -1.42857143,\n",
       "        -1.14285714, -0.85714286, -0.57142857, -0.28571429,  0.        ,\n",
       "         0.28571429,  0.57142857,  0.85714286,  1.14285714,  1.42857143,\n",
       "         1.71428571,  2.        ,  2.28571429,  2.57142857,  2.85714286,\n",
       "         3.14285714,  3.42857143,  3.71428571,  4.        ]),\n",
       " <a list of 28 Patch objects>)"
      ]
     },
     "execution_count": 21,
     "metadata": {},
     "output_type": "execute_result"
    }
   ],
   "source": [
    "%matplotlib\n",
    "import numpy as np\n",
    "X = np.random.normal(size=300)\n",
    "N_bins = int(8. / (3.5 * np.std(X) / np.power(X.size, 1. / 3)))\n",
    "print N_bins\n",
    "fig = plt.figure(figsize=(12., 4.))\n",
    "ax1 = fig.add_subplot(1, 3, 1)\n",
    "ax1.hist(X, bins=N_bins / 2, range=(-4., 4.))\n",
    "ax2 = fig.add_subplot(1, 3, 2)\n",
    "ax2.hist(X, bins=N_bins, range=(-4., 4.))\n",
    "ax3 = fig.add_subplot(1, 3, 3)\n",
    "ax3.hist(X, bins=N_bins * 2, range=(-4., 4.))"
   ]
  },
  {
   "cell_type": "markdown",
   "metadata": {
    "slideshow": {
     "slide_type": "subslide"
    }
   },
   "source": [
    "## Making a 1-d histogram\n",
    "### Choosing the optimal bin size: Scott's rule & Freedman-Diaconis rule\n",
    "\n",
    "The optimal bin size should be:\n",
    "\n",
    "* Proportional to the scale (\"width\") of distribution,\n",
    "* Decreasing with the sample size.\n",
    "\n",
    "**Scott's rule**\n",
    "\n",
    "Assuming Gaussian distribution, Scott's rule suggests a bin size of\n",
    "\n",
    "$$ \\Delta_b = \\frac{3.5\\sigma}{N^{1/3}}$$\n",
    "\n",
    "which asymptotically minimizes the mean integrated square error (MISE):\n",
    "\n",
    "$$\\text{MISE} = \\int_{\\infty}^{\\infty} [f(x) - h(x)]^2 dx$$\n",
    "\n",
    "**Freedman-Diaconis rule**\n",
    "\n",
    "This is a generalization of Scott's rule to non-Gaussian distribution.\n",
    "\n",
    "$$ \\Delta_b = \\frac{2(q_{75} - q_{25})}{N^{1/3}} = \\frac{2.7\\sigma}{N^{1/3}}$$\n",
    "\n",
    "---\n",
    "For Gaussian distribution, note the difference of the coefficients!"
   ]
  },
  {
   "cell_type": "code",
   "execution_count": 25,
   "metadata": {},
   "outputs": [
    {
     "name": "stdout",
     "output_type": "stream",
     "text": [
      "Using matplotlib backend: MacOSX\n"
     ]
    },
    {
     "data": {
      "text/plain": [
       "<matplotlib.text.Text at 0x11dde69d0>"
      ]
     },
     "execution_count": 25,
     "metadata": {},
     "output_type": "execute_result"
    }
   ],
   "source": [
    "%matplotlib\n",
    "import numpy as np\n",
    "from astroML.plotting import hist\n",
    "N_pts = 1000\n",
    "X = np.random.normal(size=N_pts)\n",
    "plt.subplot(1, 2, 1)\n",
    "hist(X, bins='scott')\n",
    "plt.title(\"Scott's rule\")\n",
    "plt.subplot(1, 2, 2)\n",
    "hist(X, bins='freedman')\n",
    "plt.title(\"Freedman's rule\")"
   ]
  },
  {
   "cell_type": "markdown",
   "metadata": {
    "slideshow": {
     "slide_type": "subslide"
    }
   },
   "source": [
    "## Making a 1-d histogram\n",
    "### Estimating the histogram errors\n",
    "\n",
    "For a histogram of $N$ data points, with a bin size of $\\Delta_b$, the normalized density of bin $k$ is\n",
    "\n",
    "$$ f_k = \\frac{n_k}{\\Delta_b N} $$\n",
    "\n",
    "where $n_k$ is the counts in this bin.\n",
    "\n",
    "The uncertainty of $f_k$ is\n",
    "\n",
    "$$ \\sigma_k = \\frac{\\sqrt{n_k}}{\\Delta_b N} $$\n",
    "\n",
    "This approach assumes Gaussian distribution of $n_k$, which is valid only when $n_k$ is large enough."
   ]
  },
  {
   "cell_type": "markdown",
   "metadata": {
    "slideshow": {
     "slide_type": "slide"
    }
   },
   "source": [
    "## Correcting the selection function\n",
    "### Selection function:\n",
    "\n",
    "Selection function $\\neq$ the \"true\" distribution\n",
    "\n",
    "Selection effect is induced by the observational / sampling process\n",
    "\n",
    "**Strict 1-d case**: we can use $S(x)$ to correct the estimate $f(x)$\n",
    "\n",
    "$$h(x) = \\frac{f(x)}{S(x)}$$\n",
    "\n",
    "** Multivariate case **: more complex, can be correlated.\n",
    "\n",
    "Example: the Malmquist bias."
   ]
  },
  {
   "cell_type": "markdown",
   "metadata": {},
   "source": [
    "## Correcting the selection function\n",
    "### Lynden-Bell's C-minus method\n",
    "The C-minus method is based on the assumption that the bivariate distribution $n(x,y)$ is separable (i.e. uncorrelated $x$ and $y$):\n",
    "\n",
    "$$ n(x, y) = \\Psi(x) \\rho(y)$$\n",
    "\n",
    "To test this assumption, we define a _comparable_ or _associated_ set $J_i$ for **each** data point $(x_i, y_i)$, so that\n",
    "\n",
    "$$J_i = \\{j: x_j < x_i \\text{ and } y_j < y_{max}(x_i) \\}$$\n",
    "\n",
    "$J_i$ is a set of $N_i$ elements. It is the **largest** $x$-limited and $y_{max}$-limited subset.\n",
    "\n",
    "Sort $J_i$ by $y_j$, we have the rank of each element $R_j$ (from 1 to $N_i$). The rank $R_i$ is the object $i$ in **its own** associated set.\n",
    "\n",
    "$R_i$ equals the number of elements in $J_i$ with $y<y_i$. If $x$ and $y$ are independent, $R_i$ should distribute **uniformly** between $0$ and $N_i$.\n",
    "\n",
    "The expectation and variance for $R_i$ are $E(R_i) = E_i = N_i / 2$, $V(R_i) = V_i = N_i^2 / 12$. Let's define the statistic\n",
    "\n",
    "$$\\tau = \\frac{\\Sigma_i (R_i - E_i)}{\\sqrt{\\Sigma_i V_i}}$$\n",
    "\n",
    "$\\tau < 1$ indicates that $x$ and $y$ are uncorrelated at 1-$\\sigma$ level\n",
    "\n",
    "![Ivezic, Figure 4.8](http://www.astroml.org/_images/fig_lyndenbell_setup_1.png)"
   ]
  },
  {
   "cell_type": "markdown",
   "metadata": {},
   "source": [
    "## Correcting the selection function\n",
    "### Lynden-Bell's C-minus method\n",
    "The cumulative distribution of $x$ is:\n",
    "\n",
    "$$ \\Phi(x) = \\int_{-\\infty}^{x} \\Psi(x') \\, dx'$$\n",
    "\n",
    "Then assuming $x_i$ are sorted,\n",
    "\n",
    "$$ \\Phi(x_i) = \\Phi(x_1) \\prod_{k = 2}^{i} (1 + 1 / N_k) $$\n",
    "\n",
    "Similarly, the cumulative distribution for $y$ is\n",
    "\n",
    "$$\\Sigma(y) = \\int_{-\\infty}^{y} \\rho(y') \\, dy'$$\n",
    "\n",
    "Let's define $M_k$ as number of objects in $J_k = \\{j:y_j < y_k\\text{ and }y_{max}(x_j) > y_k\\}$, thus we have\n",
    "\n",
    "$$ \\Sigma(y_i) = \\Sigma(y_i) \\prod_{k = 2}^{i} (1 + 1 / M_k) $$"
   ]
  },
  {
   "cell_type": "markdown",
   "metadata": {},
   "source": [
    "## Correcting the selection function\n",
    "### Simple case: bivariate Gaussian distribution\n"
   ]
  },
  {
   "cell_type": "code",
   "execution_count": 4,
   "metadata": {
    "slideshow": {
     "slide_type": "subslide"
    }
   },
   "outputs": [
    {
     "data": {
      "text/plain": [
       "<matplotlib.figure.Figure at 0x105073dd0>"
      ]
     },
     "metadata": {},
     "output_type": "display_data"
    },
    {
     "data": {
      "image/png": "[encoded data removed]",
      "text/plain": [
       "<matplotlib.figure.Figure at 0x108ce1a90>"
      ]
     },
     "metadata": {},
     "output_type": "display_data"
    }
   ],
   "source": [
    "# Author: Jake VanderPlas\n",
    "# License: BSD\n",
    "#   The figure produced by this code is published in the textbook\n",
    "#   \"Statistics, Data Mining, and Machine Learning in Astronomy\" (2013)\n",
    "#   For more information, see http://astroML.github.com\n",
    "#   To report a bug or issue, use the following forum:\n",
    "#    https://groups.google.com/forum/#!forum/astroml-general\n",
    "import numpy as np\n",
    "from matplotlib import pyplot as plt\n",
    "from scipy import stats\n",
    "\n",
    "from astroML.lumfunc import bootstrap_Cminus\n",
    "\n",
    "#----------------------------------------------------------------------\n",
    "# This function adjusts matplotlib settings for a uniform feel in the textbook.\n",
    "# Note that with usetex=True, fonts are rendered with LaTeX.  This may\n",
    "# result in an error if LaTeX is not installed on your system.  In that case,\n",
    "# you can set usetex to False.\n",
    "from astroML.plotting import setup_text_plots\n",
    "setup_text_plots(fontsize=8, usetex=False)\n",
    "\n",
    "#------------------------------------------------------------\n",
    "# Define and sample our distributions\n",
    "N = 10000\n",
    "np.random.seed(42)\n",
    "\n",
    "# Define the input distributions for x and y\n",
    "x_pdf = stats.truncnorm(-2, 1, 0.66666, 0.33333)\n",
    "y_pdf = stats.truncnorm(-1, 2, 0.33333, 0.33333)\n",
    "\n",
    "x = x_pdf.rvs(N)\n",
    "y = y_pdf.rvs(N)\n",
    "\n",
    "# define the truncation: we'll design this to be symmetric\n",
    "# so that xmax(y) = max_func(y)\n",
    "# and ymax(x) = max_func(x)\n",
    "max_func = lambda t: 1. / (0.5 + t) - 0.5\n",
    "\n",
    "xmax = max_func(y)\n",
    "xmax[xmax > 1] = 1  # cutoff at x=1\n",
    "\n",
    "ymax = max_func(x)\n",
    "ymax[ymax > 1] = 1  # cutoff at y=1\n",
    "\n",
    "# truncate the data\n",
    "flag = (x < xmax) & (y < ymax)\n",
    "x = x[flag]\n",
    "y = y[flag]\n",
    "xmax = xmax[flag]\n",
    "ymax = ymax[flag]\n",
    "\n",
    "x_fit = np.linspace(0, 1, 21)\n",
    "y_fit = np.linspace(0, 1, 21)\n",
    "\n",
    "#------------------------------------------------------------\n",
    "# compute the Cminus distributions (with bootstrap)\n",
    "x_dist, dx_dist, y_dist, dy_dist = bootstrap_Cminus(x, y, xmax, ymax,\n",
    "                                                    x_fit, y_fit,\n",
    "                                                    Nbootstraps=20,\n",
    "                                                    normalize=True)\n",
    "\n",
    "x_mid = 0.5 * (x_fit[1:] + x_fit[:-1])\n",
    "y_mid = 0.5 * (y_fit[1:] + y_fit[:-1])\n",
    "\n",
    "#------------------------------------------------------------\n",
    "# Plot the results\n",
    "fig = plt.figure(figsize=(10, 4))\n",
    "fig.subplots_adjust(bottom=0.2, top=0.95,\n",
    "                    left=0.1, right=0.92, wspace=0.25)\n",
    "\n",
    "# First subplot is the true & inferred 1D distributions\n",
    "ax = fig.add_subplot(121)\n",
    "ax.plot(x_mid, x_pdf.pdf(x_mid), '-k', label='p(x)')\n",
    "ax.plot(y_mid, y_pdf.pdf(y_mid), '--k', label='p(y)')\n",
    "ax.legend(loc='lower center')\n",
    "\n",
    "ax.errorbar(x_mid, x_dist, dx_dist, fmt='ok', ecolor='k', lw=1, ms=4)\n",
    "ax.errorbar(y_mid, y_dist, dy_dist, fmt='^k', ecolor='k', lw=1, ms=4)\n",
    "\n",
    "ax.set_ylim(0, 1.8)\n",
    "ax.set_xlim(0, 1)\n",
    "ax.set_xlabel('x, y')\n",
    "ax.set_ylabel('normalized distribution')\n",
    "\n",
    "# Second subplot is the \"observed\" 2D distribution\n",
    "ax = fig.add_subplot(122)\n",
    "H, xb, yb = np.histogram2d(x, y, bins=np.linspace(0, 1, 41))\n",
    "plt.imshow(H.T, origin='lower', interpolation='nearest',\n",
    "           extent=[0, 1, 0, 1], cmap=plt.cm.binary)\n",
    "cb = plt.colorbar()\n",
    "\n",
    "x_limit = np.linspace(-0.1, 1.1, 1000)\n",
    "y_limit = max_func(x_limit)\n",
    "x_limit[y_limit > 1] = 0\n",
    "y_limit[x_limit > 1] = 0\n",
    "ax.plot(x_limit, y_limit, '-k')\n",
    "\n",
    "ax.set_xlim(0, 1.1)\n",
    "ax.set_ylim(0, 1.1)\n",
    "ax.set_xlabel('x')\n",
    "ax.set_ylabel('y')\n",
    "cb.set_label('counts per pixel')\n",
    "ax.text(0.93, 0.93, '%i points' % len(x), ha='right', va='top',\n",
    "        transform=ax.transAxes)\n",
    "\n",
    "plt.show()"
   ]
  },
  {
   "cell_type": "markdown",
   "metadata": {},
   "source": [
    "![Ivezic, Figure 4.9](http://www.astroml.org/_images/fig_lyndenbell_toy_1.png)"
   ]
  },
  {
   "cell_type": "markdown",
   "metadata": {},
   "source": [
    "## Correcting the selection function\n",
    "### Realistic case: galaxy luminosity function"
   ]
  },
  {
   "cell_type": "code",
   "execution_count": 5,
   "metadata": {},
   "outputs": [
    {
     "name": "stdout",
     "output_type": "stream",
     "text": [
      "Downloading http://www.astro.washington.edu/users/ivezic/DMbook/data/SDSSspecgalsDR8.fit\n",
      "[========================================]  114.85Mb / 114.85Mb   \n",
      "114152 red galaxies\n",
      "45010 blue galaxies\n",
      "('- computing bootstrapped luminosity function ', 'for 114152 points')\n",
      "('- computing bootstrapped luminosity function ', 'for 45010 points')\n"
     ]
    },
    {
     "data": {
      "image/png": "[encoded data removed]",
      "text/plain": [
       "<matplotlib.figure.Figure at 0x105933850>"
      ]
     },
     "metadata": {},
     "output_type": "display_data"
    }
   ],
   "source": [
    "# Author: Jake VanderPlas\n",
    "# License: BSD\n",
    "#   The figure produced by this code is published in the textbook\n",
    "#   \"Statistics, Data Mining, and Machine Learning in Astronomy\" (2013)\n",
    "#   For more information, see http://astroML.github.com\n",
    "#   To report a bug or issue, use the following forum:\n",
    "#    https://groups.google.com/forum/#!forum/astroml-general\n",
    "import os\n",
    "import numpy as np\n",
    "from matplotlib import pyplot as plt\n",
    "\n",
    "from scipy import interpolate, stats\n",
    "\n",
    "from astroML.lumfunc import binned_Cminus, bootstrap_Cminus\n",
    "from astroML.cosmology import Cosmology\n",
    "from astroML.datasets import fetch_sdss_specgals\n",
    "\n",
    "#----------------------------------------------------------------------\n",
    "# This function adjusts matplotlib settings for a uniform feel in the textbook.\n",
    "# Note that with usetex=True, fonts are rendered with LaTeX.  This may\n",
    "# result in an error if LaTeX is not installed on your system.  In that case,\n",
    "# you can set usetex to False.\n",
    "from astroML.plotting import setup_text_plots\n",
    "setup_text_plots(fontsize=8, usetex=False)\n",
    "\n",
    "#------------------------------------------------------------\n",
    "# Get the data and perform redshift/magnitude cuts\n",
    "data = fetch_sdss_specgals()\n",
    "\n",
    "z_min = 0.08\n",
    "z_max = 0.12\n",
    "m_max = 17.7\n",
    "\n",
    "# redshift and magnitude cuts\n",
    "data = data[data['z'] > z_min]\n",
    "data = data[data['z'] < z_max]\n",
    "data = data[data['petroMag_r'] < m_max]\n",
    "\n",
    "# divide red sample and blue sample based on u-r color\n",
    "ur = data['modelMag_u'] - data['modelMag_r']\n",
    "flag_red = (ur > 2.22)\n",
    "flag_blue = ~flag_red\n",
    "\n",
    "data_red = data[flag_red]\n",
    "data_blue = data[flag_blue]\n",
    "\n",
    "# truncate sample (optional: speeds up computation)\n",
    "#data_red = data_red[::10]\n",
    "#data_blue = data_blue[::10]\n",
    "print data_red.size, \"red galaxies\"\n",
    "print data_blue.size, \"blue galaxies\"\n",
    "\n",
    "#------------------------------------------------------------\n",
    "# Distance Modulus calculation:\n",
    "#  We need functions approximating mu(z) and z(mu)\n",
    "#  where z is redshift and mu is distance modulus.\n",
    "#  We'll accomplish this using the cosmology class and\n",
    "#  scipy's cubic spline interpolation.\n",
    "cosmo = Cosmology()\n",
    "z_sample = np.linspace(0.01, 1.5, 100)\n",
    "mu_sample = [cosmo.mu(z) for z in z_sample]\n",
    "mu_z = interpolate.interp1d(z_sample, mu_sample)\n",
    "z_mu = interpolate.interp1d(mu_sample, z_sample)\n",
    "\n",
    "data = [data_red, data_blue]\n",
    "titles = ['u-r > 2.22', 'u-r < 2.22']\n",
    "markers = ['o', '^']\n",
    "archive_files = ['lumfunc_red.npz', 'lumfunc_blue.npz']\n",
    "\n",
    "\n",
    "def compute_luminosity_function(z, m, M, m_max, archive_file):\n",
    "    \"\"\"Compute the luminosity function and archive in the given file.\n",
    "\n",
    "    If the file exists, then the saved results are returned.\n",
    "    \"\"\"\n",
    "    Mmax = m_max - (m - M)\n",
    "    zmax = z_mu(m_max - M)\n",
    "\n",
    "    if not os.path.exists(archive_file):\n",
    "        print (\"- computing bootstrapped luminosity function \",\n",
    "               \"for %i points\" % len(z))\n",
    "\n",
    "        zbins = np.linspace(0.08, 0.12, 21)\n",
    "        Mbins = np.linspace(-24, -20.2, 21)\n",
    "        dist_z, err_z, dist_M, err_M = bootstrap_Cminus(z, M, zmax, Mmax,\n",
    "                                                        zbins, Mbins,\n",
    "                                                        Nbootstraps=20,\n",
    "                                                        normalize=True)\n",
    "        np.savez(archive_file,\n",
    "                 zbins=zbins, dist_z=dist_z, err_z=err_z,\n",
    "                 Mbins=Mbins, dist_M=dist_M, err_M=err_M)\n",
    "    else:\n",
    "        print \"- using precomputed bootstrapped luminosity function results\"\n",
    "        archive = np.load(archive_file)\n",
    "        zbins = archive['zbins']\n",
    "        dist_z = archive['dist_z']\n",
    "        err_z = archive['err_z']\n",
    "        Mbins = archive['Mbins']\n",
    "        dist_M = archive['dist_M']\n",
    "        err_M = archive['err_M']\n",
    "\n",
    "    return zbins, dist_z, err_z, Mbins, dist_M, err_M\n",
    "\n",
    "\n",
    "#------------------------------------------------------------\n",
    "# Perform the computation and plot the results\n",
    "fig = plt.figure(figsize=(10, 10))\n",
    "fig.subplots_adjust(left=0.13, right=0.95, wspace=0.3,\n",
    "                    bottom=0.08, top=0.95, hspace=0.2)\n",
    "\n",
    "for i in range(2):\n",
    "    m = data[i]['petroMag_r']\n",
    "    z = data[i]['z']\n",
    "    M = m - mu_z(z)\n",
    "\n",
    "    # compute the luminosity function for the given subsample\n",
    "    zbins, dist_z, err_z, Mbins, dist_M, err_M = \\\n",
    "        compute_luminosity_function(z, m, M, m_max, archive_files[i])\n",
    "\n",
    "    #------------------------------------------------------------\n",
    "    # First axes: plot the observed 2D distribution of (z, M)\n",
    "    ax = fig.add_subplot(2, 2, 1 + 2 * i)\n",
    "    H, xbins, ybins = np.histogram2d(z, M, bins=(np.linspace(0.08, 0.12, 31),\n",
    "                                                 np.linspace(-23, -20, 41)))\n",
    "    ax.imshow(H.T, origin='lower', aspect='auto',\n",
    "              interpolation='nearest', cmap=plt.cm.binary,\n",
    "              extent=(xbins[0], xbins[-1], ybins[0], ybins[-1]))\n",
    "\n",
    "    # plot the cutoff curve\n",
    "    zrange = np.linspace(0.07, 0.13, 100)\n",
    "    Mmax = m_max - mu_z(zrange)\n",
    "    ax.plot(zrange, Mmax, '-k')\n",
    "\n",
    "    ax.text(0.95, 0.95, titles[i] + \"\\n$N = %i$\" % len(z),\n",
    "            ha='right', va='top',\n",
    "            transform=ax.transAxes)\n",
    "\n",
    "    ax.set_xlim(0.075, 0.125)\n",
    "    ax.set_ylim(-22, -19.8)\n",
    "    ax.set_xlabel('z')\n",
    "    ax.set_ylabel('M')\n",
    "\n",
    "    #------------------------------------------------------------\n",
    "    # Second axes: plot the inferred 1D distribution in z\n",
    "    ax2 = fig.add_subplot(2, 2, 2)\n",
    "    factor = 0.08 ** 2 / (0.5 * (zbins[1:] + zbins[:-1])) ** 2\n",
    "    ax2.errorbar(0.5 * (zbins[1:] + zbins[:-1]),\n",
    "                 factor * dist_z, factor * err_z,\n",
    "                 fmt='-k' + markers[i], ecolor='gray', lw=1, ms=4,\n",
    "                 label=titles[i])\n",
    "\n",
    "    #------------------------------------------------------------\n",
    "    # Third axes: plot the inferred 1D distribution in M\n",
    "    ax3 = fig.add_subplot(224, yscale='log')\n",
    "\n",
    "    # truncate the bins so the plot looks better\n",
    "    Mbins = Mbins[3:-1]\n",
    "    dist_M = dist_M[3:-1]\n",
    "    err_M = err_M[3:-1]\n",
    "\n",
    "    ax3.errorbar(0.5 * (Mbins[1:] + Mbins[:-1]), dist_M, err_M,\n",
    "                 fmt='-k' + markers[i], ecolor='gray', lw=1, ms=4,\n",
    "                 label=titles[i])\n",
    "\n",
    "#------------------------------------------------------------\n",
    "# set labels and limits\n",
    "ax2.legend(loc=1)\n",
    "ax2.xaxis.set_major_locator(plt.MultipleLocator(0.01))\n",
    "ax2.set_xlabel(r'z')\n",
    "ax2.set_ylabel(r'rho(z) / [z / 0.08]^2')\n",
    "ax2.set_xlim(0.075, 0.125)\n",
    "ax2.set_ylim(10, 25)\n",
    "\n",
    "ax3.legend(loc=3)\n",
    "ax3.xaxis.set_major_locator(plt.MultipleLocator(1.0))\n",
    "ax3.set_xlabel(r'M')\n",
    "ax3.set_ylabel(r'Phi(M)')\n",
    "ax3.set_xlim(-20, -23.5)\n",
    "ax3.set_ylim(1E-5, 2)\n",
    "\n",
    "plt.show()"
   ]
  },
  {
   "cell_type": "markdown",
   "metadata": {},
   "source": [
    "![Ivezic, Figure 4.10](http://www.astroml.org/_images/fig_lyndenbell_gals_1.png)"
   ]
  },
  {
   "cell_type": "markdown",
   "metadata": {},
   "source": [
    "## Addressing the uncertainty\n",
    "\n",
    "** Why bootstrapping & Jackkniffing? **\n",
    "\n",
    "* Available parametric methods are based on unfavorable strong assumptions,\n",
    "* No available parametric methods for the problem,\n",
    "* The procedure to find the statistic is complex and non-trivial,\n",
    "* Dataset itself is complicated (correlations, truncated / censored),\n",
    "\n",
    "### Bootstrapping\n",
    "\n",
    "We approximate the \"real\" distribution $h(x)$ with an estimate $f(x)$. By drawing multiple samples from $f(x)$, we can estimate the \"dispersions\" (i.e. uncertainties) of any derived quantities. The bootstrapping method is based on the assumption that\n",
    "\n",
    "$$ f(x) = \\frac{1}{N} \\sum_{i = 1}^{N} \\delta(x - x_i) $$\n",
    "\n",
    "i.e. a collection of $\\delta$ functions (nonparametric bootstraping).\n",
    "\n",
    "We draw samples (size $N$) from this $f(x)$ **with** replacements. The chance of getting identical sample is very low ($N!/N^n$).\n",
    "\n",
    "Similarly, we can draw samples from a parametric estimate of $h(x)$ (parametric bootstrapping)."
   ]
  },
  {
   "cell_type": "code",
   "execution_count": null,
   "metadata": {
    "collapsed": true
   },
   "outputs": [],
   "source": [
    "# Author: Jake VanderPlas\n",
    "# License: BSD\n",
    "#   The figure produced by this code is published in the textbook\n",
    "#   \"Statistics, Data Mining, and Machine Learning in Astronomy\" (2013)\n",
    "#   For more information, see http://astroML.github.com\n",
    "#   To report a bug or issue, use the following forum:\n",
    "#    https://groups.google.com/forum/#!forum/astroml-general\n",
    "import numpy as np\n",
    "from scipy.stats import norm\n",
    "from matplotlib import pyplot as plt\n",
    "\n",
    "from astroML.resample import bootstrap\n",
    "from astroML.stats import sigmaG\n",
    "\n",
    "#----------------------------------------------------------------------\n",
    "# This function adjusts matplotlib settings for a uniform feel in the textbook.\n",
    "# Note that with usetex=True, fonts are rendered with LaTeX.  This may\n",
    "# result in an error if LaTeX is not installed on your system.  In that case,\n",
    "# you can set usetex to False.\n",
    "from astroML.plotting import setup_text_plots\n",
    "setup_text_plots(fontsize=8, usetex=False)\n",
    "\n",
    "m = 1000  # number of points\n",
    "n = 10000  # number of bootstraps\n",
    "\n",
    "#------------------------------------------------------------\n",
    "# sample values from a normal distribution\n",
    "np.random.seed(123)\n",
    "data = norm(0, 1).rvs(m)\n",
    "\n",
    "#------------------------------------------------------------\n",
    "# Compute bootstrap resamplings of data\n",
    "mu1_bootstrap = bootstrap(data, n,  np.std, kwargs=dict(axis=1, ddof=1))\n",
    "mu2_bootstrap = bootstrap(data, n, sigmaG, kwargs=dict(axis=1))\n",
    "\n",
    "#------------------------------------------------------------\n",
    "# Compute the theoretical expectations for the two distributions\n",
    "x = np.linspace(0.8, 1.2, 1000)\n",
    "\n",
    "sigma1 = 1. / np.sqrt(2 * (m - 1))\n",
    "pdf1 = norm(1, sigma1).pdf(x)\n",
    "\n",
    "sigma2 = 1.06 / np.sqrt(m)\n",
    "pdf2 = norm(1, sigma2).pdf(x)\n",
    "\n",
    "#------------------------------------------------------------\n",
    "# Plot the results\n",
    "fig, ax = plt.subplots(figsize=(5, 3.75))\n",
    "\n",
    "ax.hist(mu1_bootstrap, bins=50, normed=True, histtype='step',\n",
    "        color='blue', ls='dashed', label=r'sigma (std. dev.)')\n",
    "ax.plot(x, pdf1, color='gray')\n",
    "\n",
    "ax.hist(mu2_bootstrap, bins=50, normed=True, histtype='step',\n",
    "        color='red', label=r'sigma_G (quartile)$')\n",
    "ax.plot(x, pdf2, color='gray')\n",
    "\n",
    "ax.set_xlim(0.82, 1.18)\n",
    "\n",
    "ax.set_xlabel(r'sigma')\n",
    "ax.set_ylabel(r'p(sigma|x,I)')\n",
    "\n",
    "ax.legend()\n",
    "\n",
    "plt.show()"
   ]
  },
  {
   "cell_type": "markdown",
   "metadata": {},
   "source": [
    "![Ivezic, Figure 4.10](http://www.astroml.org/_images/fig_bootstrap_gaussian_1.png)"
   ]
  },
  {
   "cell_type": "markdown",
   "metadata": {},
   "source": [
    "## Addressing the uncertainty\n",
    "### Jackkniffing\n",
    "\n",
    "Jackniffing is based on the idea of **taking away** data points from the sample. To estimate the uncertainty of a statistics $\\alpha$, assuming the value calculated from the entire sample is $\\alpha_N$. After removing a data point $i$, the calculated statistic is $\\alpha_i^*$. A bias-corrected estimate of $\\alpha$ writes\n",
    "\n",
    "$$ \\alpha_J = \\alpha_N + \\Delta \\alpha $$\n",
    "\n",
    "where the correction term is\n",
    "\n",
    "$$ \\Delta \\alpha = (N - 1) \\left( \\alpha_N - \\frac{1}{N} \\sum_{i = 1}^{N} \\alpha_i^* \\right) $$\n",
    "\n",
    "If the estimator is asymptotically normal,\n",
    "\n",
    "$$ \\sigma_{\\alpha} = \\sqrt{ \\frac{1}{N(N-1)} \\sum_{i=1}^N [N \\alpha_N - \\alpha_J - (N - 1)\\alpha_i^* ]^2 } $$"
   ]
  },
  {
   "cell_type": "code",
   "execution_count": null,
   "metadata": {
    "collapsed": true
   },
   "outputs": [],
   "source": [
    "# Author: Jake VanderPlas\n",
    "# License: BSD\n",
    "#   The figure produced by this code is published in the textbook\n",
    "#   \"Statistics, Data Mining, and Machine Learning in Astronomy\" (2013)\n",
    "#   For more information, see http://astroML.github.com\n",
    "#   To report a bug or issue, use the following forum:\n",
    "#    https://groups.google.com/forum/#!forum/astroml-general\n",
    "import numpy as np\n",
    "from scipy.stats import norm\n",
    "from matplotlib import pyplot as plt\n",
    "\n",
    "#----------------------------------------------------------------------\n",
    "# This function adjusts matplotlib settings for a uniform feel in the textbook.\n",
    "# Note that with usetex=True, fonts are rendered with LaTeX.  This may\n",
    "# result in an error if LaTeX is not installed on your system.  In that case,\n",
    "# you can set usetex to False.\n",
    "from astroML.plotting import setup_text_plots\n",
    "setup_text_plots(fontsize=8, usetex=False)\n",
    "\n",
    "#------------------------------------------------------------\n",
    "# sample values from a normal distribution\n",
    "np.random.seed(123)\n",
    "m = 1000  # number of points\n",
    "data = norm(0, 1).rvs(m)\n",
    "\n",
    "#------------------------------------------------------------\n",
    "# Compute jackknife resamplings of data\n",
    "from astroML.resample import jackknife\n",
    "from astroML.stats import sigmaG\n",
    "\n",
    "# mu1 is the mean of the standard-deviation-based width\n",
    "mu1, sigma_mu1, mu1_raw = jackknife(data, np.std,\n",
    "                                    kwargs=dict(axis=1, ddof=1),\n",
    "                                    return_raw_distribution=True)\n",
    "\n",
    "pdf1_theory = norm(1, 1. / np.sqrt(2 * (m - 1)))\n",
    "pdf1_jackknife = norm(mu1, sigma_mu1)\n",
    "\n",
    "# mu2 is the mean of the interquartile-based width\n",
    "#  WARNING: do not use the following in practice.  This example\n",
    "#           shows that jackknife fails for rank-based statistics.\n",
    "mu2, sigma_mu2, mu2_raw = jackknife(data, sigmaG,\n",
    "                                    kwargs=dict(axis=1),\n",
    "                                    return_raw_distribution=True)\n",
    "pdf2_theory = norm(data.std(), 1.06 / np.sqrt(m))\n",
    "pdf2_jackknife = norm(mu2, sigma_mu2)\n",
    "print mu2, sigma_mu2\n",
    "\n",
    "#------------------------------------------------------------\n",
    "# plot the results\n",
    "print \"mu_1 mean: %.2f +- %.2f\" % (mu1, sigma_mu1)\n",
    "print \"mu_2 mean: %.2f +- %.2f\" % (mu2, sigma_mu2)\n",
    "\n",
    "fig = plt.figure(figsize=(5, 2))\n",
    "fig.subplots_adjust(left=0.11, right=0.95, bottom=0.2, top=0.9,\n",
    "                    wspace=0.25)\n",
    "\n",
    "ax = fig.add_subplot(121)\n",
    "ax.hist(mu1_raw, np.linspace(0.996, 1.008, 100),\n",
    "        label=r'sigma^* (std.\\ dev.)',\n",
    "        histtype='stepfilled', fc='white', normed=False)\n",
    "ax.hist(mu2_raw, np.linspace(0.996, 1.008, 100),\n",
    "        label=r'sigma_G^* (quartile)$',\n",
    "        histtype='stepfilled', fc='gray', normed=False)\n",
    "ax.legend(loc='upper left', handlelength=2)\n",
    "\n",
    "ax.xaxis.set_major_locator(plt.MultipleLocator(0.004))\n",
    "ax.set_xlabel(r'sigma^*')\n",
    "ax.set_ylabel(r'N(sigma^*')\n",
    "ax.set_xlim(0.998, 1.008)\n",
    "ax.set_ylim(0, 550)\n",
    "\n",
    "ax = fig.add_subplot(122)\n",
    "x = np.linspace(0.45, 1.15, 1000)\n",
    "ax.plot(x, pdf1_jackknife.pdf(x),\n",
    "        color='blue', ls='dashed', label=r'sigma (std.\\ dev.)',\n",
    "        zorder=2)\n",
    "ax.plot(x, pdf1_theory.pdf(x), color='gray', zorder=1)\n",
    "ax.plot(x, pdf2_jackknife.pdf(x),\n",
    "        color='red', label=r'sigma_G (quartile)', zorder=2)\n",
    "ax.plot(x, pdf2_theory.pdf(x), color='gray', zorder=1)\n",
    "plt.legend(loc='upper left', handlelength=2)\n",
    "\n",
    "ax.set_xlabel(r'sigma')\n",
    "ax.set_ylabel(r'p(sigma|x,I)')\n",
    "ax.set_xlim(0.45, 1.15)\n",
    "ax.set_ylim(0, 24)\n",
    "\n",
    "plt.show()"
   ]
  },
  {
   "cell_type": "markdown",
   "metadata": {},
   "source": [
    "![Ivezic, Figure 4.10](http://www.astroml.org/_images/fig_jackknife_gaussian_1.png)"
   ]
  },
  {
   "cell_type": "code",
   "execution_count": null,
   "metadata": {
    "collapsed": true
   },
   "outputs": [],
   "source": []
  }
 ],
 "metadata": {
  "celltoolbar": "Slideshow",
  "kernelspec": {
   "display_name": "Python 2",
   "language": "python",
   "name": "python2"
  },
  "language_info": {
   "codemirror_mode": {
    "name": "ipython",
    "version": 2
   },
   "file_extension": ".py",
   "mimetype": "text/x-python",
   "name": "python",
   "nbconvert_exporter": "python",
   "pygments_lexer": "ipython2",
   "version": "2.7.11"
  }
 },
 "nbformat": 4,
 "nbformat_minor": 2
}
