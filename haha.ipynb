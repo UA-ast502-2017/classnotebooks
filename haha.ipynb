{
 "cells": [
  {
   "cell_type": "code",
   "execution_count": 1,
   "metadata": {
    "collapsed": false
   },
   "outputs": [
    {
     "name": "stdout",
     "output_type": "stream",
     "text": [
      "1\n"
     ]
    }
   ],
   "source": [
    "x=1\n",
    "print x"
   ]
  },
  {
   "cell_type": "code",
   "execution_count": 2,
   "metadata": {
    "collapsed": false
   },
   "outputs": [
    {
     "name": "stdout",
     "output_type": "stream",
     "text": [
      "1\n"
     ]
    }
   ],
   "source": [
    "print x"
   ]
  },
  {
   "cell_type": "code",
   "execution_count": 3,
   "metadata": {
    "collapsed": true
   },
   "outputs": [],
   "source": [
    "import numpy as np"
   ]
  },
  {
   "cell_type": "code",
   "execution_count": 4,
   "metadata": {
    "collapsed": true
   },
   "outputs": [],
   "source": [
    "x=1"
   ]
  },
  {
   "cell_type": "code",
   "execution_count": null,
   "metadata": {
    "collapsed": false
   },
   "outputs": [],
   "source": [
    "print x"
   ]
  },
  {
   "cell_type": "code",
   "execution_count": 6,
   "metadata": {
    "collapsed": false
   },
   "outputs": [
    {
     "ename": "ImportError",
     "evalue": "No module named astroML",
     "output_type": "error",
     "traceback": [
      "\u001b[0;31m---------------------------------------------------------------------------\u001b[0m",
      "\u001b[0;31mImportError\u001b[0m                               Traceback (most recent call last)",
      "\u001b[0;32m<ipython-input-6-efd7f5d180a8>\u001b[0m in \u001b[0;36m<module>\u001b[0;34m()\u001b[0m\n\u001b[0;32m----> 1\u001b[0;31m \u001b[0;32mimport\u001b[0m \u001b[0mastroML\u001b[0m\u001b[0;34m\u001b[0m\u001b[0m\n\u001b[0m",
      "\u001b[0;31mImportError\u001b[0m: No module named astroML"
     ]
    }
   ],
   "source": [
    "import astroML\n"
   ]
  },
  {
   "cell_type": "code",
   "execution_count": 7,
   "metadata": {
    "collapsed": false
   },
   "outputs": [
    {
     "ename": "ImportError",
     "evalue": "No module named astroPy",
     "output_type": "error",
     "traceback": [
      "\u001b[0;31m---------------------------------------------------------------------------\u001b[0m",
      "\u001b[0;31mImportError\u001b[0m                               Traceback (most recent call last)",
      "\u001b[0;32m<ipython-input-7-49a75835e336>\u001b[0m in \u001b[0;36m<module>\u001b[0;34m()\u001b[0m\n\u001b[0;32m----> 1\u001b[0;31m \u001b[0;32mimport\u001b[0m \u001b[0mastroPy\u001b[0m\u001b[0;34m\u001b[0m\u001b[0m\n\u001b[0m",
      "\u001b[0;31mImportError\u001b[0m: No module named astroPy"
     ]
    }
   ],
   "source": [
    "import astroPy"
   ]
  },
  {
   "cell_type": "code",
   "execution_count": 1,
   "metadata": {
    "collapsed": true
   },
   "outputs": [],
   "source": [
    "import scipy"
   ]
  },
  {
   "cell_type": "code",
   "execution_count": null,
   "metadata": {
    "collapsed": true
   },
   "outputs": [],
   "source": [
    "import scipy\n"
   ]
  },
  {
   "cell_type": "code",
   "execution_count": null,
   "metadata": {
    "collapsed": true
   },
   "outputs": [],
   "source": [
    "x=1\n",
    "print x"
   ]
  },
  {
   "cell_type": "code",
   "execution_count": 4,
   "metadata": {
    "collapsed": false
   },
   "outputs": [
    {
     "ename": "ImportError",
     "evalue": "No module named astroML",
     "output_type": "error",
     "traceback": [
      "\u001b[0;31m---------------------------------------------------------------------------\u001b[0m",
      "\u001b[0;31mImportError\u001b[0m                               Traceback (most recent call last)",
      "\u001b[0;32m<ipython-input-4-1880d3d64259>\u001b[0m in \u001b[0;36m<module>\u001b[0;34m()\u001b[0m\n\u001b[1;32m      7\u001b[0m \u001b[0;31m#    https://groups.google.com/forum/#!forum/astroml-general\u001b[0m\u001b[0;34m\u001b[0m\u001b[0;34m\u001b[0m\u001b[0m\n\u001b[1;32m      8\u001b[0m \u001b[0;32mimport\u001b[0m \u001b[0mnumpy\u001b[0m \u001b[0;32mas\u001b[0m \u001b[0mnp\u001b[0m\u001b[0;34m\u001b[0m\u001b[0m\n\u001b[0;32m----> 9\u001b[0;31m \u001b[0;32mimport\u001b[0m \u001b[0mastroML\u001b[0m\u001b[0;34m\u001b[0m\u001b[0m\n\u001b[0m\u001b[1;32m     10\u001b[0m \u001b[0;32mfrom\u001b[0m \u001b[0mmatplotlib\u001b[0m \u001b[0;32mimport\u001b[0m \u001b[0mpyplot\u001b[0m \u001b[0;32mas\u001b[0m \u001b[0mplt\u001b[0m\u001b[0;34m\u001b[0m\u001b[0m\n\u001b[1;32m     11\u001b[0m \u001b[0;32mfrom\u001b[0m \u001b[0mastroML\u001b[0m\u001b[0;34m.\u001b[0m\u001b[0mdatasets\u001b[0m \u001b[0;32mimport\u001b[0m \u001b[0mfetch_imaging_sample\u001b[0m\u001b[0;34m\u001b[0m\u001b[0m\n",
      "\u001b[0;31mImportError\u001b[0m: No module named astroML"
     ]
    }
   ],
   "source": [
    "# Author: Jake VanderPlas\n",
    "# License: BSD\n",
    "#   The figure produced by this code is published in the textbook\n",
    "#   \"Statistics, Data Mining, and Machine Learning in Astronomy\" (2013)\n",
    "#   For more information, see http://astroML.github.com\n",
    "#   To report a bug or issue, use the following forum:\n",
    "#    https://groups.google.com/forum/#!forum/astroml-general\n",
    "import numpy as np\n",
    "import astroML\n",
    "from matplotlib import pyplot as plt\n",
    "from astroML.datasets import fetch_imaging_sample\n",
    "\n",
    "#----------------------------------------------------------------------\n",
    "# This function adjusts matplotlib settings for a uniform feel in the textbook.\n",
    "# Note that with usetex=True, fonts are rendered with LaTeX.  This may\n",
    "# result in an error if LaTeX is not installed on your system.  In that case,\n",
    "# you can set usetex to False.\n",
    "from astroML.plotting import setup_text_plots\n",
    "setup_text_plots(fontsize=8, usetex=True)\n",
    "\n",
    "\n",
    "def get_stars_and_galaxies(Nstars=5000, Ngals=5000):\n",
    "    \"\"\"Get the subset of star/galaxy data to plot\"\"\"\n",
    "    data = fetch_imaging_sample()\n",
    "\n",
    "    objtype = data['type']\n",
    "\n",
    "    stars = data[objtype == 6][:Nstars]\n",
    "    galaxies = data[objtype == 3][:Ngals]\n",
    "\n",
    "    return stars, galaxies\n",
    "\n",
    "\n",
    "def plot_stars_and_galaxies(stars, galaxies):\n",
    "    \"\"\"Plot the star and galaxy data\"\"\"\n",
    "    # Note: we use plot() rather than scatter() because it's more efficient\n",
    "    # for large numbers of points.\n",
    "    # Scatter should be used only when points need to be different colors\n",
    "    # and/or sizes\n",
    "    plot_kwargs = dict(color='k', linestyle='none', marker=',')\n",
    "\n",
    "    fig = plt.figure(figsize=(5, 3.75))\n",
    "\n",
    "    ax1 = fig.add_subplot(221)\n",
    "    ax1.plot(galaxies['gRaw'] - galaxies['rRaw'],\n",
    "             galaxies['rRaw'],\n",
    "             **plot_kwargs)\n",
    "\n",
    "    ax2 = fig.add_subplot(223, sharex=ax1)\n",
    "    ax2.plot(galaxies['gRaw'] - galaxies['rRaw'],\n",
    "             galaxies['rRaw'] - galaxies['iRaw'],\n",
    "             **plot_kwargs)\n",
    "\n",
    "    ax3 = fig.add_subplot(222, sharey=ax1)\n",
    "    ax3.plot(stars['gRaw'] - stars['rRaw'],\n",
    "             stars['rRaw'],\n",
    "             **plot_kwargs)\n",
    "\n",
    "    ax4 = fig.add_subplot(224, sharex=ax3, sharey=ax2)\n",
    "    ax4.plot(stars['gRaw'] - stars['rRaw'],\n",
    "             stars['rRaw'] - stars['iRaw'],\n",
    "             **plot_kwargs)\n",
    "\n",
    "    # set labels and titles\n",
    "    ax1.set_ylabel(r'${\\rm r}$')\n",
    "    ax2.set_ylabel(r'${\\rm r - i}$')\n",
    "    ax2.set_xlabel(r'${\\rm g - r}$')\n",
    "    ax4.set_xlabel(r'${\\rm g - r}$')\n",
    "    ax1.set_title('Galaxies')\n",
    "    ax3.set_title('Stars')\n",
    "\n",
    "    # set axis limits\n",
    "    ax2.set_xlim(-1, 3)\n",
    "    ax3.set_ylim(22.5, 14)\n",
    "    ax4.set_xlim(-1, 3)\n",
    "    ax4.set_ylim(-1, 2)\n",
    "\n",
    "    # adjust tick spacings on all axes\n",
    "    for ax in (ax1, ax2, ax3, ax4):\n",
    "        ax.xaxis.set_major_locator(plt.MultipleLocator(1))\n",
    "        ax.yaxis.set_major_locator(plt.MultipleLocator(1))\n",
    "\n",
    "#------------------------------------------------------------\n",
    "# Generate and show the plot\n",
    "stars, galaxies = get_stars_and_galaxies()\n",
    "plot_stars_and_galaxies(stars, galaxies)\n",
    "plt.show()"
   ]
  },
  {
   "cell_type": "code",
   "execution_count": null,
   "metadata": {
    "collapsed": true
   },
   "outputs": [],
   "source": []
  }
 ],
 "metadata": {
  "anaconda-cloud": {},
  "kernelspec": {
   "display_name": "Python [conda env:iraf27]",
   "language": "python",
   "name": "conda-env-iraf27-py"
  }
 },
 "nbformat": 4,
 "nbformat_minor": 1
}
